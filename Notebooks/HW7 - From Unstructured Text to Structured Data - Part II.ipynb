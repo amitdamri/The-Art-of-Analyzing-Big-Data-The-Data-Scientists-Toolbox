{
  "nbformat": 4,
  "nbformat_minor": 0,
  "metadata": {
    "kernelspec": {
      "display_name": "Python 3",
      "language": "python",
      "name": "python3"
    },
    "language_info": {
      "codemirror_mode": {
        "name": "ipython",
        "version": 3
      },
      "file_extension": ".py",
      "mimetype": "text/x-python",
      "name": "python",
      "nbconvert_exporter": "python",
      "pygments_lexer": "ipython3",
      "version": "3.6.7"
    },
    "colab": {
      "name": "Copy of HW_7.ipynb",
      "provenance": []
    }
  },
  "cells": [
    {
      "cell_type": "markdown",
      "metadata": {
        "id": "vpM6SFPqDMEe"
      },
      "source": [
        "# Homework Assignment 7"
      ]
    },
    {
      "cell_type": "code",
      "metadata": {
        "id": "W7rRhF6ZSUJx"
      },
      "source": [
        "from collections import Counter\n",
        "import networkx as nx\n",
        "from tqdm import tqdm\n",
        "\n",
        "\n",
        "import spacy\n",
        "# !python -m spacy download en_core_web_lg\n",
        "nlp = spacy.load('en_core_web_lg')"
      ],
      "execution_count": 1,
      "outputs": []
    },
    {
      "cell_type": "code",
      "metadata": {
        "id": "NjI0Z4om93Ml"
      },
      "source": [
        "!pip install turicreate"
      ],
      "execution_count": null,
      "outputs": []
    },
    {
      "cell_type": "code",
      "metadata": {
        "id": "vjvdMH8XUrWt"
      },
      "source": [
        "!pip install afinn"
      ],
      "execution_count": null,
      "outputs": []
    },
    {
      "cell_type": "code",
      "metadata": {
        "colab": {
          "base_uri": "https://localhost:8080/"
        },
        "id": "_9Mdz45fACLl",
        "outputId": "846ac547-25af-44ef-8299-0e3297a26e73"
      },
      "source": [
        "import nltk\n",
        "nltk.download('punkt')\n",
        "\n",
        "from nltk.tokenize import word_tokenize\n",
        "import turicreate as tc\n",
        "import pandas as pd\n",
        "\n",
        "import seaborn as sns\n",
        "sns.set()"
      ],
      "execution_count": 3,
      "outputs": [
        {
          "output_type": "stream",
          "name": "stdout",
          "text": [
            "[nltk_data] Downloading package punkt to /root/nltk_data...\n",
            "[nltk_data]   Package punkt is already up-to-date!\n"
          ]
        }
      ]
    },
    {
      "cell_type": "markdown",
      "metadata": {
        "id": "Fdve57NuDMEf"
      },
      "source": [
        "**Question 1:** Select two books and construct networks of people and locations, i.e. each link is between a a person and a location (20pt). Visualize the network using Cytoscape or Gephi (20pt).\n"
      ]
    },
    {
      "cell_type": "markdown",
      "metadata": {
        "id": "9P2kDDSFou5b"
      },
      "source": [
        "First book is: Oliver Twist by Charles Dickens's\n"
      ]
    },
    {
      "cell_type": "code",
      "metadata": {
        "colab": {
          "base_uri": "https://localhost:8080/"
        },
        "id": "TcY08_GIakkt",
        "outputId": "dd9fb381-55a9-4c35-af26-1de31e50144e"
      },
      "source": [
        "# mount drive for cytoscape images\n",
        "from google.colab import drive\n",
        "drive.mount('/content/drive')"
      ],
      "execution_count": 4,
      "outputs": [
        {
          "output_type": "stream",
          "name": "stdout",
          "text": [
            "Mounted at /content/drive\n"
          ]
        }
      ]
    },
    {
      "cell_type": "code",
      "metadata": {
        "id": "n5T-SMZHDMEg"
      },
      "source": [
        "# create directories\n",
        "!mkdir ./datasets\n",
        "!mkdir ./datasets/books\n",
        "!mkdir ./datasets/books/oliver\n",
        "\n",
        "# download dataset txt file\n",
        "!wget https://www.gutenberg.org/files/730/730-0.txt -O ./datasets/books/oliver/oliver.txt"
      ],
      "execution_count": null,
      "outputs": []
    },
    {
      "cell_type": "code",
      "metadata": {
        "id": "VEqsv4O9PwZl"
      },
      "source": [
        "# create set of tuples of persons and locations\n",
        "def get_person_location_links(txt):\n",
        "    links_set = set()\n",
        "    doc = nlp(txt)\n",
        "    persons = [entity.text.lower().strip() for entity in doc.ents if entity.label_ == \"PERSON\"]\n",
        "    locations = [entity.text.lower().strip().replace('\\n', ' ') for entity in doc.ents if entity.label_ == \"LOC\"]\n",
        "    \n",
        "    for e1 in persons:\n",
        "        for e2 in locations:\n",
        "            if len(e1) < 2 or len(e2) < 2:\n",
        "                continue\n",
        "            if e1 > e2:\n",
        "                e1, e2 = e2, e1 # switch order\n",
        "            links_set.add((e1, e2))\n",
        "\n",
        "    return links_set"
      ],
      "execution_count": 6,
      "outputs": []
    },
    {
      "cell_type": "code",
      "metadata": {
        "id": "1wU5tHzLVEEM"
      },
      "source": [
        "# split text to paragrahps\n",
        "oliver_path = './datasets/books/oliver/oliver.txt'\n",
        "txt = open(oliver_path).read()\n",
        "paragraphs_list = txt.split(\"\\n\\n\")\n",
        "\n",
        "# find the index of the first chapter\n",
        "for index, para in enumerate(paragraphs_list):\n",
        "  if 'CHAPTER I.' in para.strip():\n",
        "    first_chap = index\n",
        "    break\n",
        "\n",
        "# find the index of the last chapter\n",
        "for index, para in enumerate(paragraphs_list):\n",
        "  if '*** END OF THE PROJECT GUTENBERG EBOOK' in para:\n",
        "    last_chap = index-1\n",
        "    break"
      ],
      "execution_count": 7,
      "outputs": []
    },
    {
      "cell_type": "code",
      "metadata": {
        "colab": {
          "base_uri": "https://localhost:8080/"
        },
        "id": "6gxj7LETMx0x",
        "outputId": "f5f6c32d-cdce-4e32-d401-e074b763433c"
      },
      "source": [
        "links_list = []    \n",
        "for index in tqdm(range(first_chap, last_chap+1)):\n",
        "    if len(paragraphs_list[index]) > 0:\n",
        "      # for each paragraph each link counts only once\n",
        "      links_list += list(get_person_location_links(paragraphs_list[index]))"
      ],
      "execution_count": 8,
      "outputs": [
        {
          "output_type": "stream",
          "name": "stderr",
          "text": [
            "100%|██████████| 3946/3946 [01:12<00:00, 54.11it/s]\n"
          ]
        }
      ]
    },
    {
      "cell_type": "code",
      "metadata": {
        "colab": {
          "base_uri": "https://localhost:8080/"
        },
        "id": "knokWutGN1Ut",
        "outputId": "0b220ce8-ba9d-4bf9-a2c8-1617b59da410"
      },
      "source": [
        "# build graph with the given links (links between persons and locations)\n",
        "def build_graph(links):\n",
        "  g = nx.Graph()\n",
        "  c = Counter(links)\n",
        "\n",
        "  for e, count in dict(c).items():\n",
        "      v1,v2 = e\n",
        "      g.add_edge(v1,v2, weight=count)\n",
        "\n",
        "  print(nx.info(g))\n",
        "  return g\n",
        "\n",
        "g = build_graph(links_list)"
      ],
      "execution_count": 9,
      "outputs": [
        {
          "output_type": "stream",
          "name": "stdout",
          "text": [
            "Graph with 59 nodes and 54 edges\n"
          ]
        }
      ]
    },
    {
      "cell_type": "code",
      "metadata": {
        "id": "LwJbG0UWOMNs"
      },
      "source": [
        "# save graph as .gml to use it on cytoscape software\n",
        "def save_graph(g, path):\n",
        "  nx.write_gml(g, path)\n",
        "\n",
        "save_graph(g, './datasets/books/oliver/oliver_network.gml')"
      ],
      "execution_count": 10,
      "outputs": []
    },
    {
      "cell_type": "code",
      "metadata": {
        "colab": {
          "base_uri": "https://localhost:8080/",
          "height": 535
        },
        "id": "2bMPPhZlOOYP",
        "outputId": "d21f8a84-d5cf-4b63-9ab6-0c74c3dd1850"
      },
      "source": [
        "# Cytoscape\n",
        "from IPython.display import Image\n",
        "Image('/content/drive/MyDrive/BigData_Course/oliver_network_cytoscape.png')"
      ],
      "execution_count": 11,
      "outputs": [
        {
          "output_type": "execute_result",
          "data": {
            "image/png": "[encoded data removed]",
            "text/plain": [
              "<IPython.core.display.Image object>"
            ]
          },
          "metadata": {},
          "execution_count": 11
        }
      ]
    },
    {
      "cell_type": "markdown",
      "metadata": {
        "id": "TI2DQY4Aps2V"
      },
      "source": [
        "Alice's Adventures in Wonderland by Lewis Carroll"
      ]
    },
    {
      "cell_type": "code",
      "metadata": {
        "id": "gWwcSqtYpagR"
      },
      "source": [
        "# create dataset directory and download txt file\n",
        "!mkdir ./datasets/books/alice\n",
        "!wget https://www.gutenberg.org/files/11/11-0.txt -O ./datasets/books/alice/alice.txt"
      ],
      "execution_count": null,
      "outputs": []
    },
    {
      "cell_type": "code",
      "metadata": {
        "id": "3L42a-AibigR"
      },
      "source": [
        "alice_path = './datasets/books/alice/alice.txt'"
      ],
      "execution_count": 13,
      "outputs": []
    },
    {
      "cell_type": "code",
      "metadata": {
        "id": "0YrLSoWHZhqf"
      },
      "source": [
        "# split text to paragrahps\n",
        "txt_alice = open(alice_path).read()\n",
        "paragraphs_list_alice = txt_alice.split(\"\\n\\n\")\n",
        "\n",
        "# find the index of the first chapter\n",
        "for index, para in enumerate(paragraphs_list_alice):\n",
        "  if 'CHAPTER I.Down the Rabbit-Hole' == para.replace('\\n', ''):\n",
        "    first_chap = index\n",
        "    break\n",
        "\n",
        "# find the index of the last chapter\n",
        "for index, para in enumerate(paragraphs_list_alice):\n",
        "  if 'END OF THE PROJECT GUTENBERG EBOOK' in para:\n",
        "    last_chap = index-1\n",
        "    break"
      ],
      "execution_count": 14,
      "outputs": []
    },
    {
      "cell_type": "code",
      "metadata": {
        "colab": {
          "base_uri": "https://localhost:8080/"
        },
        "id": "ykTmR7OwZmO7",
        "outputId": "f644ac27-f22a-445a-be26-7447407f7a1d"
      },
      "source": [
        "links_list_alice = []    \n",
        "for index in tqdm(range(first_chap, last_chap+1)):\n",
        "    if len(paragraphs_list_alice[index]) > 0:\n",
        "      # for each paragraph each link counts only once\n",
        "      links_list_alice += list(get_person_location_links(paragraphs_list_alice[index]))"
      ],
      "execution_count": 21,
      "outputs": [
        {
          "output_type": "stream",
          "name": "stderr",
          "text": [
            "100%|██████████| 823/823 [00:14<00:00, 58.57it/s]\n"
          ]
        }
      ]
    },
    {
      "cell_type": "code",
      "metadata": {
        "colab": {
          "base_uri": "https://localhost:8080/"
        },
        "id": "QoH68ui2aJSc",
        "outputId": "7ba921e8-aa99-4f7a-8eed-cee8da299924"
      },
      "source": [
        "g = build_graph(links_list_alice)\n",
        "save_graph(g, './datasets/books/alice/alice_network.gml')"
      ],
      "execution_count": 23,
      "outputs": [
        {
          "output_type": "stream",
          "name": "stdout",
          "text": [
            "Graph with 9 nodes and 8 edges\n"
          ]
        }
      ]
    },
    {
      "cell_type": "code",
      "metadata": {
        "colab": {
          "base_uri": "https://localhost:8080/",
          "height": 396
        },
        "id": "787cQghLZiFb",
        "outputId": "ba6b2452-1f17-4d05-bfa3-a38e899332d0"
      },
      "source": [
        "# Cytoscape\n",
        "from IPython.display import Image\n",
        "Image('/content/drive/MyDrive/BigData_Course/alice_network_cytoscape.png')"
      ],
      "execution_count": 24,
      "outputs": [
        {
          "output_type": "execute_result",
          "data": {
            "image/png": "[encoded data removed]",
            "text/plain": [
              "<IPython.core.display.Image object>"
            ]
          },
          "metadata": {},
          "execution_count": 24
        }
      ]
    },
    {
      "cell_type": "markdown",
      "metadata": {
        "id": "tEHVwYACDMEl"
      },
      "source": [
        "**Question 2:** Use the [Friends TV Show Transcript](https://www.kaggle.com/ryanstonebraker/friends-transcript)\n",
        "to create and evaluate a classifier that given a line of text can predict\n",
        " who is the \"friend\" that said it (20pt). Using sentiment analysis identify who are the most and less friendly friends (20pt). Construct a classifier that can be given several text lines (quotes) from a specific episode that will predict the episode's season number (20pt)."
      ]
    },
    {
      "cell_type": "code",
      "metadata": {
        "id": "_A3yxrNC9RWd"
      },
      "source": [
        "import json\n",
        "import os\n",
        "\n",
        "!mkdir /root/.kaggle/\n",
        "\n",
        "# Installing the Kaggle package\n",
        "api_token = {\"username\":\"amitdamri\",\"key\":\"a076ad6676498fde930f6aacbda924c4\"}\n",
        "\n",
        "# creating kaggle.json file with the personal API-Key details \n",
        "with open('/root/.kaggle/kaggle.json', 'w') as file:\n",
        "  json.dump(api_token, file)\n",
        "!chmod 600 /root/.kaggle/kaggle.json"
      ],
      "execution_count": null,
      "outputs": []
    },
    {
      "cell_type": "code",
      "metadata": {
        "id": "IIh11ESmDMEm"
      },
      "source": [
        "import kaggle\n",
        "\n",
        "# create directories\n",
        "!mkdir ./datasets\n",
        "!mkdir ./datasets/friends\n",
        "\n",
        "# download dataset from kaggle\n",
        "!kaggle datasets download -d ryanstonebraker/friends-transcript -p ./datasets/friends\n",
        "!unzip ./datasets/friends/*.zip -d ./datasets/friends"
      ],
      "execution_count": null,
      "outputs": []
    },
    {
      "cell_type": "markdown",
      "metadata": {
        "id": "ppEYoBCp-blT"
      },
      "source": [
        "A classifier that given a line of text can predict who is the \"friend\" that said it"
      ]
    },
    {
      "cell_type": "code",
      "metadata": {
        "colab": {
          "base_uri": "https://localhost:8080/",
          "height": 423
        },
        "id": "P-Lypgmg9rwJ",
        "outputId": "a5ff41c6-d85a-4129-c90b-6fc8fea3f005"
      },
      "source": [
        "# load dataset into dataframe\n",
        "df = pd.read_csv('./datasets/friends/friends_quotes.csv')\n",
        "df"
      ],
      "execution_count": 27,
      "outputs": [
        {
          "output_type": "execute_result",
          "data": {
            "text/html": [
              "<div>\n",
              "<style scoped>\n",
              "    .dataframe tbody tr th:only-of-type {\n",
              "        vertical-align: middle;\n",
              "    }\n",
              "\n",
              "    .dataframe tbody tr th {\n",
              "        vertical-align: top;\n",
              "    }\n",
              "\n",
              "    .dataframe thead th {\n",
              "        text-align: right;\n",
              "    }\n",
              "</style>\n",
              "<table border=\"1\" class=\"dataframe\">\n",
              "  <thead>\n",
              "    <tr style=\"text-align: right;\">\n",
              "      <th></th>\n",
              "      <th>author</th>\n",
              "      <th>episode_number</th>\n",
              "      <th>episode_title</th>\n",
              "      <th>quote</th>\n",
              "      <th>quote_order</th>\n",
              "      <th>season</th>\n",
              "    </tr>\n",
              "  </thead>\n",
              "  <tbody>\n",
              "    <tr>\n",
              "      <th>0</th>\n",
              "      <td>Monica</td>\n",
              "      <td>1.0</td>\n",
              "      <td>Monica Gets A Roommate</td>\n",
              "      <td>There's nothing to tell! He's just some guy I ...</td>\n",
              "      <td>0.0</td>\n",
              "      <td>1.0</td>\n",
              "    </tr>\n",
              "    <tr>\n",
              "      <th>1</th>\n",
              "      <td>Joey</td>\n",
              "      <td>1.0</td>\n",
              "      <td>Monica Gets A Roommate</td>\n",
              "      <td>C'mon, you're going out with the guy! There's ...</td>\n",
              "      <td>1.0</td>\n",
              "      <td>1.0</td>\n",
              "    </tr>\n",
              "    <tr>\n",
              "      <th>2</th>\n",
              "      <td>Chandler</td>\n",
              "      <td>1.0</td>\n",
              "      <td>Monica Gets A Roommate</td>\n",
              "      <td>All right Joey, be nice. So does he have a hum...</td>\n",
              "      <td>2.0</td>\n",
              "      <td>1.0</td>\n",
              "    </tr>\n",
              "    <tr>\n",
              "      <th>3</th>\n",
              "      <td>Phoebe</td>\n",
              "      <td>1.0</td>\n",
              "      <td>Monica Gets A Roommate</td>\n",
              "      <td>Wait, does he eat chalk?</td>\n",
              "      <td>3.0</td>\n",
              "      <td>1.0</td>\n",
              "    </tr>\n",
              "    <tr>\n",
              "      <th>4</th>\n",
              "      <td>Phoebe</td>\n",
              "      <td>1.0</td>\n",
              "      <td>Monica Gets A Roommate</td>\n",
              "      <td>Just, 'cause, I don't want her to go through w...</td>\n",
              "      <td>4.0</td>\n",
              "      <td>1.0</td>\n",
              "    </tr>\n",
              "    <tr>\n",
              "      <th>...</th>\n",
              "      <td>...</td>\n",
              "      <td>...</td>\n",
              "      <td>...</td>\n",
              "      <td>...</td>\n",
              "      <td>...</td>\n",
              "      <td>...</td>\n",
              "    </tr>\n",
              "    <tr>\n",
              "      <th>60286</th>\n",
              "      <td>Chandler</td>\n",
              "      <td>17.0</td>\n",
              "      <td>The Last One, Part I &amp; II</td>\n",
              "      <td>Oh, it's gonna be okay.</td>\n",
              "      <td>581.0</td>\n",
              "      <td>10.0</td>\n",
              "    </tr>\n",
              "    <tr>\n",
              "      <th>60287</th>\n",
              "      <td>Rachel</td>\n",
              "      <td>17.0</td>\n",
              "      <td>The Last One, Part I &amp; II</td>\n",
              "      <td>(crying) Do you guys have to go to the new hou...</td>\n",
              "      <td>582.0</td>\n",
              "      <td>10.0</td>\n",
              "    </tr>\n",
              "    <tr>\n",
              "      <th>60288</th>\n",
              "      <td>Monica</td>\n",
              "      <td>17.0</td>\n",
              "      <td>The Last One, Part I &amp; II</td>\n",
              "      <td>We got some time.</td>\n",
              "      <td>583.0</td>\n",
              "      <td>10.0</td>\n",
              "    </tr>\n",
              "    <tr>\n",
              "      <th>60289</th>\n",
              "      <td>Rachel</td>\n",
              "      <td>17.0</td>\n",
              "      <td>The Last One, Part I &amp; II</td>\n",
              "      <td>Okay, should we get some coffee?</td>\n",
              "      <td>584.0</td>\n",
              "      <td>10.0</td>\n",
              "    </tr>\n",
              "    <tr>\n",
              "      <th>60290</th>\n",
              "      <td>Chandler</td>\n",
              "      <td>17.0</td>\n",
              "      <td>The Last One, Part I &amp; II</td>\n",
              "      <td>Sure. Where?</td>\n",
              "      <td>585.0</td>\n",
              "      <td>10.0</td>\n",
              "    </tr>\n",
              "  </tbody>\n",
              "</table>\n",
              "<p>60291 rows × 6 columns</p>\n",
              "</div>"
            ],
            "text/plain": [
              "         author  episode_number  ... quote_order season\n",
              "0        Monica             1.0  ...         0.0    1.0\n",
              "1          Joey             1.0  ...         1.0    1.0\n",
              "2      Chandler             1.0  ...         2.0    1.0\n",
              "3        Phoebe             1.0  ...         3.0    1.0\n",
              "4        Phoebe             1.0  ...         4.0    1.0\n",
              "...         ...             ...  ...         ...    ...\n",
              "60286  Chandler            17.0  ...       581.0   10.0\n",
              "60287    Rachel            17.0  ...       582.0   10.0\n",
              "60288    Monica            17.0  ...       583.0   10.0\n",
              "60289    Rachel            17.0  ...       584.0   10.0\n",
              "60290  Chandler            17.0  ...       585.0   10.0\n",
              "\n",
              "[60291 rows x 6 columns]"
            ]
          },
          "metadata": {},
          "execution_count": 27
        }
      ]
    },
    {
      "cell_type": "code",
      "metadata": {
        "id": "7NBZRIzUCfTo"
      },
      "source": [
        "# dictionary of the \"friends\" only and their colors\n",
        "friends_authors = {'ross':'g', 'rachel':'y', 'phoebe':'b', 'monica':'r', 'chandler':'w', 'joey':'k'}"
      ],
      "execution_count": 28,
      "outputs": []
    },
    {
      "cell_type": "code",
      "metadata": {
        "colab": {
          "base_uri": "https://localhost:8080/",
          "height": 406
        },
        "id": "_shjsxkF_RI5",
        "outputId": "0c1bfac9-acf2-4c2f-8d57-874e855dbf6d"
      },
      "source": [
        "# get only the author and quote columns\n",
        "sf = tc.SFrame(df[['author', 'quote']])\n",
        "# lower all author names\n",
        "sf['author'] = sf['author'].apply(lambda author: author.lower())\n",
        "sf.materialize()\n",
        "# get only the \"friends\" authors\n",
        "sf = sf.filter_by(friends_authors.keys(), 'author')\n",
        "# count chars and words\n",
        "sf['Chars Number'] = sf['quote'].apply(lambda s: len(s))\n",
        "sf['Words Number'] = sf['quote'].apply(lambda s: len(word_tokenize(s)))\n",
        "sf"
      ],
      "execution_count": 29,
      "outputs": [
        {
          "output_type": "execute_result",
          "data": {
            "text/html": [
              "<div style=\"max-height:1000px;max-width:1500px;overflow:auto;\"><table frame=\"box\" rules=\"cols\">\n",
              "    <tr>\n",
              "        <th style=\"padding-left: 1em; padding-right: 1em; text-align: center\">author</th>\n",
              "        <th style=\"padding-left: 1em; padding-right: 1em; text-align: center\">quote</th>\n",
              "        <th style=\"padding-left: 1em; padding-right: 1em; text-align: center\">Chars Number</th>\n",
              "        <th style=\"padding-left: 1em; padding-right: 1em; text-align: center\">Words Number</th>\n",
              "    </tr>\n",
              "    <tr>\n",
              "        <td style=\"padding-left: 1em; padding-right: 1em; text-align: center; vertical-align: top\">monica</td>\n",
              "        <td style=\"padding-left: 1em; padding-right: 1em; text-align: center; vertical-align: top\">There&#x27;s nothing to tell!<br>He&#x27;s just some guy I  ...</td>\n",
              "        <td style=\"padding-left: 1em; padding-right: 1em; text-align: center; vertical-align: top\">56</td>\n",
              "        <td style=\"padding-left: 1em; padding-right: 1em; text-align: center; vertical-align: top\">15</td>\n",
              "    </tr>\n",
              "    <tr>\n",
              "        <td style=\"padding-left: 1em; padding-right: 1em; text-align: center; vertical-align: top\">joey</td>\n",
              "        <td style=\"padding-left: 1em; padding-right: 1em; text-align: center; vertical-align: top\">C&#x27;mon, you&#x27;re going out<br>with the guy! There&#x27;s ...</td>\n",
              "        <td style=\"padding-left: 1em; padding-right: 1em; text-align: center; vertical-align: top\">80</td>\n",
              "        <td style=\"padding-left: 1em; padding-right: 1em; text-align: center; vertical-align: top\">20</td>\n",
              "    </tr>\n",
              "    <tr>\n",
              "        <td style=\"padding-left: 1em; padding-right: 1em; text-align: center; vertical-align: top\">chandler</td>\n",
              "        <td style=\"padding-left: 1em; padding-right: 1em; text-align: center; vertical-align: top\">All right Joey, be nice.<br>So does he have a hum ...</td>\n",
              "        <td style=\"padding-left: 1em; padding-right: 1em; text-align: center; vertical-align: top\">72</td>\n",
              "        <td style=\"padding-left: 1em; padding-right: 1em; text-align: center; vertical-align: top\">20</td>\n",
              "    </tr>\n",
              "    <tr>\n",
              "        <td style=\"padding-left: 1em; padding-right: 1em; text-align: center; vertical-align: top\">phoebe</td>\n",
              "        <td style=\"padding-left: 1em; padding-right: 1em; text-align: center; vertical-align: top\">Wait, does he eat chalk?</td>\n",
              "        <td style=\"padding-left: 1em; padding-right: 1em; text-align: center; vertical-align: top\">24</td>\n",
              "        <td style=\"padding-left: 1em; padding-right: 1em; text-align: center; vertical-align: top\">7</td>\n",
              "    </tr>\n",
              "    <tr>\n",
              "        <td style=\"padding-left: 1em; padding-right: 1em; text-align: center; vertical-align: top\">phoebe</td>\n",
              "        <td style=\"padding-left: 1em; padding-right: 1em; text-align: center; vertical-align: top\">Just, &#x27;cause, I don&#x27;t<br>want her to go through ...</td>\n",
              "        <td style=\"padding-left: 1em; padding-right: 1em; text-align: center; vertical-align: top\">79</td>\n",
              "        <td style=\"padding-left: 1em; padding-right: 1em; text-align: center; vertical-align: top\">20</td>\n",
              "    </tr>\n",
              "    <tr>\n",
              "        <td style=\"padding-left: 1em; padding-right: 1em; text-align: center; vertical-align: top\">monica</td>\n",
              "        <td style=\"padding-left: 1em; padding-right: 1em; text-align: center; vertical-align: top\">Okay, everybody relax.<br>This is not even a date. ...</td>\n",
              "        <td style=\"padding-left: 1em; padding-right: 1em; text-align: center; vertical-align: top\">109</td>\n",
              "        <td style=\"padding-left: 1em; padding-right: 1em; text-align: center; vertical-align: top\">26</td>\n",
              "    </tr>\n",
              "    <tr>\n",
              "        <td style=\"padding-left: 1em; padding-right: 1em; text-align: center; vertical-align: top\">chandler</td>\n",
              "        <td style=\"padding-left: 1em; padding-right: 1em; text-align: center; vertical-align: top\">Sounds like a date to me.</td>\n",
              "        <td style=\"padding-left: 1em; padding-right: 1em; text-align: center; vertical-align: top\">25</td>\n",
              "        <td style=\"padding-left: 1em; padding-right: 1em; text-align: center; vertical-align: top\">7</td>\n",
              "    </tr>\n",
              "    <tr>\n",
              "        <td style=\"padding-left: 1em; padding-right: 1em; text-align: center; vertical-align: top\">chandler</td>\n",
              "        <td style=\"padding-left: 1em; padding-right: 1em; text-align: center; vertical-align: top\">Alright, so I&#x27;m back in<br>high school, I&#x27;m stan ...</td>\n",
              "        <td style=\"padding-left: 1em; padding-right: 1em; text-align: center; vertical-align: top\">115</td>\n",
              "        <td style=\"padding-left: 1em; padding-right: 1em; text-align: center; vertical-align: top\">28</td>\n",
              "    </tr>\n",
              "    <tr>\n",
              "        <td style=\"padding-left: 1em; padding-right: 1em; text-align: center; vertical-align: top\">chandler</td>\n",
              "        <td style=\"padding-left: 1em; padding-right: 1em; text-align: center; vertical-align: top\">Then I look down, and I<br>realize there&#x27;s a ...</td>\n",
              "        <td style=\"padding-left: 1em; padding-right: 1em; text-align: center; vertical-align: top\">57</td>\n",
              "        <td style=\"padding-left: 1em; padding-right: 1em; text-align: center; vertical-align: top\">15</td>\n",
              "    </tr>\n",
              "    <tr>\n",
              "        <td style=\"padding-left: 1em; padding-right: 1em; text-align: center; vertical-align: top\">joey</td>\n",
              "        <td style=\"padding-left: 1em; padding-right: 1em; text-align: center; vertical-align: top\">Instead of...?</td>\n",
              "        <td style=\"padding-left: 1em; padding-right: 1em; text-align: center; vertical-align: top\">14</td>\n",
              "        <td style=\"padding-left: 1em; padding-right: 1em; text-align: center; vertical-align: top\">4</td>\n",
              "    </tr>\n",
              "</table>\n",
              "[49506 rows x 4 columns]<br/>Note: Only the head of the SFrame is printed.<br/>You can use print_rows(num_rows=m, num_columns=n) to print more rows and columns.\n",
              "</div>"
            ],
            "text/plain": [
              "Columns:\n",
              "\tauthor\tstr\n",
              "\tquote\tstr\n",
              "\tChars Number\tint\n",
              "\tWords Number\tint\n",
              "\n",
              "Rows: 49506\n",
              "\n",
              "Data:\n",
              "+----------+-------------------------------+--------------+--------------+\n",
              "|  author  |             quote             | Chars Number | Words Number |\n",
              "+----------+-------------------------------+--------------+--------------+\n",
              "|  monica  | There's nothing to tell! H... |      56      |      15      |\n",
              "|   joey   | C'mon, you're going out wi... |      80      |      20      |\n",
              "| chandler | All right Joey, be nice. S... |      72      |      20      |\n",
              "|  phoebe  |    Wait, does he eat chalk?   |      24      |      7       |\n",
              "|  phoebe  | Just, 'cause, I don't want... |      79      |      20      |\n",
              "|  monica  | Okay, everybody relax. Thi... |     109      |      26      |\n",
              "| chandler |   Sounds like a date to me.   |      25      |      7       |\n",
              "| chandler | Alright, so I'm back in hi... |     115      |      28      |\n",
              "| chandler | Then I look down, and I re... |      57      |      15      |\n",
              "|   joey   |         Instead of...?        |      14      |      4       |\n",
              "+----------+-------------------------------+--------------+--------------+\n",
              "[49506 rows x 4 columns]\n",
              "Note: Only the head of the SFrame is printed.\n",
              "You can use print_rows(num_rows=m, num_columns=n) to print more rows and columns."
            ]
          },
          "metadata": {},
          "execution_count": 29
        }
      ]
    },
    {
      "cell_type": "code",
      "metadata": {
        "colab": {
          "base_uri": "https://localhost:8080/",
          "height": 523
        },
        "id": "wUcXkHfkDzBd",
        "outputId": "aa837f9a-0fcb-4e3f-e153-12557fb9fac0"
      },
      "source": [
        "# distribution plot of number of chars for each author\n",
        "for friend, color in friends_authors.items():\n",
        "  sns.distplot(sf[sf['author'] == friend]['Chars Number'], axlabel=\"Quote Length (Chars)\", color=color)"
      ],
      "execution_count": 30,
      "outputs": [
        {
          "output_type": "stream",
          "name": "stderr",
          "text": [
            "/usr/local/lib/python3.7/dist-packages/seaborn/distributions.py:2619: FutureWarning: `distplot` is a deprecated function and will be removed in a future version. Please adapt your code to use either `displot` (a figure-level function with similar flexibility) or `histplot` (an axes-level function for histograms).\n",
            "  warnings.warn(msg, FutureWarning)\n",
            "/usr/local/lib/python3.7/dist-packages/seaborn/distributions.py:2619: FutureWarning: `distplot` is a deprecated function and will be removed in a future version. Please adapt your code to use either `displot` (a figure-level function with similar flexibility) or `histplot` (an axes-level function for histograms).\n",
            "  warnings.warn(msg, FutureWarning)\n",
            "/usr/local/lib/python3.7/dist-packages/seaborn/distributions.py:2619: FutureWarning: `distplot` is a deprecated function and will be removed in a future version. Please adapt your code to use either `displot` (a figure-level function with similar flexibility) or `histplot` (an axes-level function for histograms).\n",
            "  warnings.warn(msg, FutureWarning)\n",
            "/usr/local/lib/python3.7/dist-packages/seaborn/distributions.py:2619: FutureWarning: `distplot` is a deprecated function and will be removed in a future version. Please adapt your code to use either `displot` (a figure-level function with similar flexibility) or `histplot` (an axes-level function for histograms).\n",
            "  warnings.warn(msg, FutureWarning)\n",
            "/usr/local/lib/python3.7/dist-packages/seaborn/distributions.py:2619: FutureWarning: `distplot` is a deprecated function and will be removed in a future version. Please adapt your code to use either `displot` (a figure-level function with similar flexibility) or `histplot` (an axes-level function for histograms).\n",
            "  warnings.warn(msg, FutureWarning)\n",
            "/usr/local/lib/python3.7/dist-packages/seaborn/distributions.py:2619: FutureWarning: `distplot` is a deprecated function and will be removed in a future version. Please adapt your code to use either `displot` (a figure-level function with similar flexibility) or `histplot` (an axes-level function for histograms).\n",
            "  warnings.warn(msg, FutureWarning)\n"
          ]
        },
        {
          "output_type": "display_data",
          "data": {
            "image/png": "[encoded data removed]",
            "text/plain": [
              "<Figure size 432x288 with 1 Axes>"
            ]
          },
          "metadata": {}
        }
      ]
    },
    {
      "cell_type": "code",
      "metadata": {
        "colab": {
          "base_uri": "https://localhost:8080/",
          "height": 523
        },
        "id": "zHm2d7QwD918",
        "outputId": "8cd7e998-35f4-469d-dc99-89420f0d72fd"
      },
      "source": [
        "# distribution plot of number of words for each author\n",
        "for friend, color in friends_authors.items():\n",
        "  sns.distplot(sf[sf['author'] == friend]['Words Number'], axlabel=\"Words Number\", color=color)"
      ],
      "execution_count": 31,
      "outputs": [
        {
          "output_type": "stream",
          "name": "stderr",
          "text": [
            "/usr/local/lib/python3.7/dist-packages/seaborn/distributions.py:2619: FutureWarning: `distplot` is a deprecated function and will be removed in a future version. Please adapt your code to use either `displot` (a figure-level function with similar flexibility) or `histplot` (an axes-level function for histograms).\n",
            "  warnings.warn(msg, FutureWarning)\n",
            "/usr/local/lib/python3.7/dist-packages/seaborn/distributions.py:2619: FutureWarning: `distplot` is a deprecated function and will be removed in a future version. Please adapt your code to use either `displot` (a figure-level function with similar flexibility) or `histplot` (an axes-level function for histograms).\n",
            "  warnings.warn(msg, FutureWarning)\n",
            "/usr/local/lib/python3.7/dist-packages/seaborn/distributions.py:2619: FutureWarning: `distplot` is a deprecated function and will be removed in a future version. Please adapt your code to use either `displot` (a figure-level function with similar flexibility) or `histplot` (an axes-level function for histograms).\n",
            "  warnings.warn(msg, FutureWarning)\n",
            "/usr/local/lib/python3.7/dist-packages/seaborn/distributions.py:2619: FutureWarning: `distplot` is a deprecated function and will be removed in a future version. Please adapt your code to use either `displot` (a figure-level function with similar flexibility) or `histplot` (an axes-level function for histograms).\n",
            "  warnings.warn(msg, FutureWarning)\n",
            "/usr/local/lib/python3.7/dist-packages/seaborn/distributions.py:2619: FutureWarning: `distplot` is a deprecated function and will be removed in a future version. Please adapt your code to use either `displot` (a figure-level function with similar flexibility) or `histplot` (an axes-level function for histograms).\n",
            "  warnings.warn(msg, FutureWarning)\n",
            "/usr/local/lib/python3.7/dist-packages/seaborn/distributions.py:2619: FutureWarning: `distplot` is a deprecated function and will be removed in a future version. Please adapt your code to use either `displot` (a figure-level function with similar flexibility) or `histplot` (an axes-level function for histograms).\n",
            "  warnings.warn(msg, FutureWarning)\n"
          ]
        },
        {
          "output_type": "display_data",
          "data": {
            "image/png": "[encoded data removed]",
            "text/plain": [
              "<Figure size 432x288 with 1 Axes>"
            ]
          },
          "metadata": {}
        }
      ]
    },
    {
      "cell_type": "code",
      "metadata": {
        "colab": {
          "base_uri": "https://localhost:8080/",
          "height": 794
        },
        "id": "v_6n_YwPA6q5",
        "outputId": "247f22d3-7ffc-48ad-efa9-6f3995603720"
      },
      "source": [
        "# lower all quotes\n",
        "sf['qoute'] = sf['quote'].apply(lambda s: s.lower())\n",
        "# bow\n",
        "sf['bow'] = tc.text_analytics.count_words(sf['quote'])\n",
        "sf['bow'] = sf['bow'].dict_trim_by_keys(tc.text_analytics.stop_words(lang='en'), exclude=True)\n",
        "# 2 grams\n",
        "sf['word_2gram'] = tc.text_analytics.count_ngrams(sf['quote'], n=2)\n",
        "# embedding\n",
        "vectors = []\n",
        "for s in sf['qoute']:\n",
        "    vectors.append(nlp(s).vector)\n",
        "sf['vector'] = vectors\n",
        "\n",
        "sf.materialize()\n",
        "sf"
      ],
      "execution_count": 32,
      "outputs": [
        {
          "output_type": "execute_result",
          "data": {
            "text/html": [
              "<div style=\"max-height:1000px;max-width:1500px;overflow:auto;\"><table frame=\"box\" rules=\"cols\">\n",
              "    <tr>\n",
              "        <th style=\"padding-left: 1em; padding-right: 1em; text-align: center\">author</th>\n",
              "        <th style=\"padding-left: 1em; padding-right: 1em; text-align: center\">quote</th>\n",
              "        <th style=\"padding-left: 1em; padding-right: 1em; text-align: center\">Chars Number</th>\n",
              "        <th style=\"padding-left: 1em; padding-right: 1em; text-align: center\">Words Number</th>\n",
              "        <th style=\"padding-left: 1em; padding-right: 1em; text-align: center\">qoute</th>\n",
              "    </tr>\n",
              "    <tr>\n",
              "        <td style=\"padding-left: 1em; padding-right: 1em; text-align: center; vertical-align: top\">monica</td>\n",
              "        <td style=\"padding-left: 1em; padding-right: 1em; text-align: center; vertical-align: top\">There&#x27;s nothing to tell!<br>He&#x27;s just some guy I  ...</td>\n",
              "        <td style=\"padding-left: 1em; padding-right: 1em; text-align: center; vertical-align: top\">56</td>\n",
              "        <td style=\"padding-left: 1em; padding-right: 1em; text-align: center; vertical-align: top\">15</td>\n",
              "        <td style=\"padding-left: 1em; padding-right: 1em; text-align: center; vertical-align: top\">there&#x27;s nothing to tell!<br>he&#x27;s just some guy i  ...</td>\n",
              "    </tr>\n",
              "    <tr>\n",
              "        <td style=\"padding-left: 1em; padding-right: 1em; text-align: center; vertical-align: top\">joey</td>\n",
              "        <td style=\"padding-left: 1em; padding-right: 1em; text-align: center; vertical-align: top\">C&#x27;mon, you&#x27;re going out<br>with the guy! There&#x27;s ...</td>\n",
              "        <td style=\"padding-left: 1em; padding-right: 1em; text-align: center; vertical-align: top\">80</td>\n",
              "        <td style=\"padding-left: 1em; padding-right: 1em; text-align: center; vertical-align: top\">20</td>\n",
              "        <td style=\"padding-left: 1em; padding-right: 1em; text-align: center; vertical-align: top\">c&#x27;mon, you&#x27;re going out<br>with the guy! there&#x27;s ...</td>\n",
              "    </tr>\n",
              "    <tr>\n",
              "        <td style=\"padding-left: 1em; padding-right: 1em; text-align: center; vertical-align: top\">chandler</td>\n",
              "        <td style=\"padding-left: 1em; padding-right: 1em; text-align: center; vertical-align: top\">All right Joey, be nice.<br>So does he have a hum ...</td>\n",
              "        <td style=\"padding-left: 1em; padding-right: 1em; text-align: center; vertical-align: top\">72</td>\n",
              "        <td style=\"padding-left: 1em; padding-right: 1em; text-align: center; vertical-align: top\">20</td>\n",
              "        <td style=\"padding-left: 1em; padding-right: 1em; text-align: center; vertical-align: top\">all right joey, be nice.<br>so does he have a hum ...</td>\n",
              "    </tr>\n",
              "    <tr>\n",
              "        <td style=\"padding-left: 1em; padding-right: 1em; text-align: center; vertical-align: top\">phoebe</td>\n",
              "        <td style=\"padding-left: 1em; padding-right: 1em; text-align: center; vertical-align: top\">Wait, does he eat chalk?</td>\n",
              "        <td style=\"padding-left: 1em; padding-right: 1em; text-align: center; vertical-align: top\">24</td>\n",
              "        <td style=\"padding-left: 1em; padding-right: 1em; text-align: center; vertical-align: top\">7</td>\n",
              "        <td style=\"padding-left: 1em; padding-right: 1em; text-align: center; vertical-align: top\">wait, does he eat chalk?</td>\n",
              "    </tr>\n",
              "    <tr>\n",
              "        <td style=\"padding-left: 1em; padding-right: 1em; text-align: center; vertical-align: top\">phoebe</td>\n",
              "        <td style=\"padding-left: 1em; padding-right: 1em; text-align: center; vertical-align: top\">Just, &#x27;cause, I don&#x27;t<br>want her to go through ...</td>\n",
              "        <td style=\"padding-left: 1em; padding-right: 1em; text-align: center; vertical-align: top\">79</td>\n",
              "        <td style=\"padding-left: 1em; padding-right: 1em; text-align: center; vertical-align: top\">20</td>\n",
              "        <td style=\"padding-left: 1em; padding-right: 1em; text-align: center; vertical-align: top\">just, &#x27;cause, i don&#x27;t<br>want her to go through ...</td>\n",
              "    </tr>\n",
              "    <tr>\n",
              "        <td style=\"padding-left: 1em; padding-right: 1em; text-align: center; vertical-align: top\">monica</td>\n",
              "        <td style=\"padding-left: 1em; padding-right: 1em; text-align: center; vertical-align: top\">Okay, everybody relax.<br>This is not even a date. ...</td>\n",
              "        <td style=\"padding-left: 1em; padding-right: 1em; text-align: center; vertical-align: top\">109</td>\n",
              "        <td style=\"padding-left: 1em; padding-right: 1em; text-align: center; vertical-align: top\">26</td>\n",
              "        <td style=\"padding-left: 1em; padding-right: 1em; text-align: center; vertical-align: top\">okay, everybody relax.<br>this is not even a date. ...</td>\n",
              "    </tr>\n",
              "    <tr>\n",
              "        <td style=\"padding-left: 1em; padding-right: 1em; text-align: center; vertical-align: top\">chandler</td>\n",
              "        <td style=\"padding-left: 1em; padding-right: 1em; text-align: center; vertical-align: top\">Sounds like a date to me.</td>\n",
              "        <td style=\"padding-left: 1em; padding-right: 1em; text-align: center; vertical-align: top\">25</td>\n",
              "        <td style=\"padding-left: 1em; padding-right: 1em; text-align: center; vertical-align: top\">7</td>\n",
              "        <td style=\"padding-left: 1em; padding-right: 1em; text-align: center; vertical-align: top\">sounds like a date to me.</td>\n",
              "    </tr>\n",
              "    <tr>\n",
              "        <td style=\"padding-left: 1em; padding-right: 1em; text-align: center; vertical-align: top\">chandler</td>\n",
              "        <td style=\"padding-left: 1em; padding-right: 1em; text-align: center; vertical-align: top\">Alright, so I&#x27;m back in<br>high school, I&#x27;m stan ...</td>\n",
              "        <td style=\"padding-left: 1em; padding-right: 1em; text-align: center; vertical-align: top\">115</td>\n",
              "        <td style=\"padding-left: 1em; padding-right: 1em; text-align: center; vertical-align: top\">28</td>\n",
              "        <td style=\"padding-left: 1em; padding-right: 1em; text-align: center; vertical-align: top\">alright, so i&#x27;m back in<br>high school, i&#x27;m stan ...</td>\n",
              "    </tr>\n",
              "    <tr>\n",
              "        <td style=\"padding-left: 1em; padding-right: 1em; text-align: center; vertical-align: top\">chandler</td>\n",
              "        <td style=\"padding-left: 1em; padding-right: 1em; text-align: center; vertical-align: top\">Then I look down, and I<br>realize there&#x27;s a ...</td>\n",
              "        <td style=\"padding-left: 1em; padding-right: 1em; text-align: center; vertical-align: top\">57</td>\n",
              "        <td style=\"padding-left: 1em; padding-right: 1em; text-align: center; vertical-align: top\">15</td>\n",
              "        <td style=\"padding-left: 1em; padding-right: 1em; text-align: center; vertical-align: top\">then i look down, and i<br>realize there&#x27;s a ...</td>\n",
              "    </tr>\n",
              "    <tr>\n",
              "        <td style=\"padding-left: 1em; padding-right: 1em; text-align: center; vertical-align: top\">joey</td>\n",
              "        <td style=\"padding-left: 1em; padding-right: 1em; text-align: center; vertical-align: top\">Instead of...?</td>\n",
              "        <td style=\"padding-left: 1em; padding-right: 1em; text-align: center; vertical-align: top\">14</td>\n",
              "        <td style=\"padding-left: 1em; padding-right: 1em; text-align: center; vertical-align: top\">4</td>\n",
              "        <td style=\"padding-left: 1em; padding-right: 1em; text-align: center; vertical-align: top\">instead of...?</td>\n",
              "    </tr>\n",
              "</table>\n",
              "<table frame=\"box\" rules=\"cols\">\n",
              "    <tr>\n",
              "        <th style=\"padding-left: 1em; padding-right: 1em; text-align: center\">bow</th>\n",
              "        <th style=\"padding-left: 1em; padding-right: 1em; text-align: center\">word_2gram</th>\n",
              "        <th style=\"padding-left: 1em; padding-right: 1em; text-align: center\">vector</th>\n",
              "    </tr>\n",
              "    <tr>\n",
              "        <td style=\"padding-left: 1em; padding-right: 1em; text-align: center; vertical-align: top\">{&#x27;work&#x27;: 1.0, &#x27;guy&#x27;: 1.0}</td>\n",
              "        <td style=\"padding-left: 1em; padding-right: 1em; text-align: center; vertical-align: top\">{&#x27;work with&#x27;: 1, &#x27;i<br>work&#x27;: 1, &#x27;tell he&#x27;: 1, ...</td>\n",
              "        <td style=\"padding-left: 1em; padding-right: 1em; text-align: center; vertical-align: top\">[-6.18888177e-02<br>2.65797228e-01 ...</td>\n",
              "    </tr>\n",
              "    <tr>\n",
              "        <td style=\"padding-left: 1em; padding-right: 1em; text-align: center; vertical-align: top\">{&#x27;wrong&#x27;: 1.0, &#x27;gotta&#x27;:<br>1.0, &#x27;mon&#x27;: 1.0, &#x27;guy&#x27;: ...</td>\n",
              "        <td style=\"padding-left: 1em; padding-right: 1em; text-align: center; vertical-align: top\">{&#x27;something wrong&#x27;: 1,<br>&#x27;be something&#x27;: 1, &#x27;g ...</td>\n",
              "        <td style=\"padding-left: 1em; padding-right: 1em; text-align: center; vertical-align: top\">[-1.22622110e-01<br>1.81547493e-01 ...</td>\n",
              "    </tr>\n",
              "    <tr>\n",
              "        <td style=\"padding-left: 1em; padding-right: 1em; text-align: center; vertical-align: top\">{&#x27;hairpiece&#x27;: 1.0,<br>&#x27;hump&#x27;: 2.0, &#x27;joey&#x27;:  ...</td>\n",
              "        <td style=\"padding-left: 1em; padding-right: 1em; text-align: center; vertical-align: top\">{&#x27;hump and&#x27;: 1, &#x27;hump a&#x27;:<br>1, &#x27;all right&#x27;: 1, &#x27;and ...</td>\n",
              "        <td style=\"padding-left: 1em; padding-right: 1em; text-align: center; vertical-align: top\">[-9.82086826e-03<br>9.88112614e-02 ...</td>\n",
              "    </tr>\n",
              "    <tr>\n",
              "        <td style=\"padding-left: 1em; padding-right: 1em; text-align: center; vertical-align: top\">{&#x27;chalk&#x27;: 1.0, &#x27;eat&#x27;:<br>1.0, &#x27;wait&#x27;: 1.0} ...</td>\n",
              "        <td style=\"padding-left: 1em; padding-right: 1em; text-align: center; vertical-align: top\">{&#x27;eat chalk&#x27;: 1, &#x27;he<br>eat&#x27;: 1, &#x27;does he&#x27;: 1, ...</td>\n",
              "        <td style=\"padding-left: 1em; padding-right: 1em; text-align: center; vertical-align: top\">[-3.71425711e-02<br>2.29819149e-01 ...</td>\n",
              "    </tr>\n",
              "    <tr>\n",
              "        <td style=\"padding-left: 1em; padding-right: 1em; text-align: center; vertical-align: top\">{&#x27;carl&#x27;: 1.0, &#x27;don&#x27;: 1.0}</td>\n",
              "        <td style=\"padding-left: 1em; padding-right: 1em; text-align: center; vertical-align: top\">{&#x27;with carl&#x27;: 1, &#x27;went<br>through&#x27;: 1, &#x27;through ...</td>\n",
              "        <td style=\"padding-left: 1em; padding-right: 1em; text-align: center; vertical-align: top\">[ 4.21000049e-02<br>2.36502886e-01 ...</td>\n",
              "    </tr>\n",
              "    <tr>\n",
              "        <td style=\"padding-left: 1em; padding-right: 1em; text-align: center; vertical-align: top\">{&#x27;dinner&#x27;: 1.0, &#x27;relax&#x27;:<br>1.0, &#x27;sex&#x27;: 1.0, ...</td>\n",
              "        <td style=\"padding-left: 1em; padding-right: 1em; text-align: center; vertical-align: top\">{&#x27;having sex&#x27;: 1, &#x27;not<br>having&#x27;: 1, &#x27;to dinner&#x27;: ...</td>\n",
              "        <td style=\"padding-left: 1em; padding-right: 1em; text-align: center; vertical-align: top\">[-1.00040007e-02<br>1.46241844e-01 ...</td>\n",
              "    </tr>\n",
              "    <tr>\n",
              "        <td style=\"padding-left: 1em; padding-right: 1em; text-align: center; vertical-align: top\">{&#x27;date&#x27;: 1.0, &#x27;sounds&#x27;:<br>1.0} ...</td>\n",
              "        <td style=\"padding-left: 1em; padding-right: 1em; text-align: center; vertical-align: top\">{&#x27;to me&#x27;: 1, &#x27;date to&#x27;:<br>1, &#x27;a date&#x27;: 1, &#x27;like ...</td>\n",
              "        <td style=\"padding-left: 1em; padding-right: 1em; text-align: center; vertical-align: top\">[ 4.51041423e-02<br>1.73930570e-01 ...</td>\n",
              "    </tr>\n",
              "    <tr>\n",
              "        <td style=\"padding-left: 1em; padding-right: 1em; text-align: center; vertical-align: top\">{&#x27;totally&#x27;: 1.0,<br>&#x27;alright&#x27;: 1.0, &#x27;high&#x27;: ...</td>\n",
              "        <td style=\"padding-left: 1em; padding-right: 1em; text-align: center; vertical-align: top\">{&#x27;am totally&#x27;: 1, &#x27;i am&#x27;:<br>1, &#x27;realize i&#x27;: 1, &#x27;i ...</td>\n",
              "        <td style=\"padding-left: 1em; padding-right: 1em; text-align: center; vertical-align: top\">[ 1.14625013e-02<br>2.69849598e-01 ...</td>\n",
              "    </tr>\n",
              "    <tr>\n",
              "        <td style=\"padding-left: 1em; padding-right: 1em; text-align: center; vertical-align: top\">{&#x27;realize&#x27;: 1.0, &#x27;phone&#x27;:<br>1.0} ...</td>\n",
              "        <td style=\"padding-left: 1em; padding-right: 1em; text-align: center; vertical-align: top\">{&#x27;phone there&#x27;: 1, &#x27;i<br>look&#x27;: 1, &#x27;look down&#x27; ...</td>\n",
              "        <td style=\"padding-left: 1em; padding-right: 1em; text-align: center; vertical-align: top\">[ 7.12726032e-03<br>2.44098589e-01 ...</td>\n",
              "    </tr>\n",
              "    <tr>\n",
              "        <td style=\"padding-left: 1em; padding-right: 1em; text-align: center; vertical-align: top\">{}</td>\n",
              "        <td style=\"padding-left: 1em; padding-right: 1em; text-align: center; vertical-align: top\">{&#x27;instead of&#x27;: 1}</td>\n",
              "        <td style=\"padding-left: 1em; padding-right: 1em; text-align: center; vertical-align: top\">[-1.22297760e-02<br>1.30369991e-01 ...</td>\n",
              "    </tr>\n",
              "</table>\n",
              "[49506 rows x 8 columns]<br/>Note: Only the head of the SFrame is printed.<br/>You can use print_rows(num_rows=m, num_columns=n) to print more rows and columns.\n",
              "</div>"
            ],
            "text/plain": [
              "Columns:\n",
              "\tauthor\tstr\n",
              "\tquote\tstr\n",
              "\tChars Number\tint\n",
              "\tWords Number\tint\n",
              "\tqoute\tstr\n",
              "\tbow\tdict\n",
              "\tword_2gram\tdict\n",
              "\tvector\tndarray\n",
              "\n",
              "Rows: 49506\n",
              "\n",
              "Data:\n",
              "+----------+-------------------------------+--------------+--------------+\n",
              "|  author  |             quote             | Chars Number | Words Number |\n",
              "+----------+-------------------------------+--------------+--------------+\n",
              "|  monica  | There's nothing to tell! H... |      56      |      15      |\n",
              "|   joey   | C'mon, you're going out wi... |      80      |      20      |\n",
              "| chandler | All right Joey, be nice. S... |      72      |      20      |\n",
              "|  phoebe  |    Wait, does he eat chalk?   |      24      |      7       |\n",
              "|  phoebe  | Just, 'cause, I don't want... |      79      |      20      |\n",
              "|  monica  | Okay, everybody relax. Thi... |     109      |      26      |\n",
              "| chandler |   Sounds like a date to me.   |      25      |      7       |\n",
              "| chandler | Alright, so I'm back in hi... |     115      |      28      |\n",
              "| chandler | Then I look down, and I re... |      57      |      15      |\n",
              "|   joey   |         Instead of...?        |      14      |      4       |\n",
              "+----------+-------------------------------+--------------+--------------+\n",
              "+-------------------------------+--------------------------------+\n",
              "|             qoute             |              bow               |\n",
              "+-------------------------------+--------------------------------+\n",
              "| there's nothing to tell! h... |   {'work': 1.0, 'guy': 1.0}    |\n",
              "| c'mon, you're going out wi... | {'wrong': 1.0, 'gotta': 1....  |\n",
              "| all right joey, be nice. s... | {'hairpiece': 1.0, 'hump':...  |\n",
              "|    wait, does he eat chalk?   | {'chalk': 1.0, 'eat': 1.0,...  |\n",
              "| just, 'cause, i don't want... |   {'carl': 1.0, 'don': 1.0}    |\n",
              "| okay, everybody relax. thi... | {'dinner': 1.0, 'relax': 1...  |\n",
              "|   sounds like a date to me.   |  {'date': 1.0, 'sounds': 1.0}  |\n",
              "| alright, so i'm back in hi... | {'totally': 1.0, 'alright'...  |\n",
              "| then i look down, and i re... | {'realize': 1.0, 'phone': 1.0} |\n",
              "|         instead of...?        |               {}               |\n",
              "+-------------------------------+--------------------------------+\n",
              "+-------------------------------+-------------------------------+\n",
              "|           word_2gram          |             vector            |\n",
              "+-------------------------------+-------------------------------+\n",
              "| {'work with': 1, 'i work':... | [-6.18888177e-02  2.657972... |\n",
              "| {'something wrong': 1, 'be... | [-1.22622110e-01  1.815474... |\n",
              "| {'hump and': 1, 'hump a': ... | [-9.82086826e-03  9.881126... |\n",
              "| {'eat chalk': 1, 'he eat':... | [-3.71425711e-02  2.298191... |\n",
              "| {'with carl': 1, 'went thr... | [ 4.21000049e-02  2.365028... |\n",
              "| {'having sex': 1, 'not hav... | [-1.00040007e-02  1.462418... |\n",
              "| {'to me': 1, 'date to': 1,... | [ 4.51041423e-02  1.739305... |\n",
              "| {'am totally': 1, 'i am': ... | [ 1.14625013e-02  2.698495... |\n",
              "| {'phone there': 1, 'i look... | [ 7.12726032e-03  2.440985... |\n",
              "|       {'instead of': 1}       | [-1.22297760e-02  1.303699... |\n",
              "+-------------------------------+-------------------------------+\n",
              "[49506 rows x 8 columns]\n",
              "Note: Only the head of the SFrame is printed.\n",
              "You can use print_rows(num_rows=m, num_columns=n) to print more rows and columns."
            ]
          },
          "metadata": {},
          "execution_count": 32
        }
      ]
    },
    {
      "cell_type": "code",
      "metadata": {
        "colab": {
          "base_uri": "https://localhost:8080/",
          "height": 1000
        },
        "id": "v-1-Yk1OGHSY",
        "outputId": "0bda2acb-4a1c-4eaa-faa1-5972af11502e"
      },
      "source": [
        "train,test = sf.random_split(0.8)\n",
        "cls = tc.classifier.create(train, features=['bow', 'word_2gram', 'vector'\t,'Chars Number'], target='author')"
      ],
      "execution_count": 33,
      "outputs": [
        {
          "output_type": "stream",
          "name": "stdout",
          "text": [
            "PROGRESS: Creating a validation set from 5 percent of training data. This may take a while.\n",
            "          You can set ``validation_set=None`` to disable validation tracking.\n",
            "\n",
            "PROGRESS: The following methods are available for this type of problem.\n",
            "PROGRESS: BoostedTreesClassifier, RandomForestClassifier, DecisionTreeClassifier, LogisticClassifier\n",
            "PROGRESS: The returned model will be chosen according to validation accuracy.\n"
          ]
        },
        {
          "output_type": "display_data",
          "data": {
            "text/html": [
              "<pre>Boosted trees classifier:</pre>"
            ],
            "text/plain": [
              "Boosted trees classifier:"
            ]
          },
          "metadata": {}
        },
        {
          "output_type": "display_data",
          "data": {
            "text/html": [
              "<pre>--------------------------------------------------------</pre>"
            ],
            "text/plain": [
              "--------------------------------------------------------"
            ]
          },
          "metadata": {}
        },
        {
          "output_type": "display_data",
          "data": {
            "text/html": [
              "<pre>Number of examples          : 37732</pre>"
            ],
            "text/plain": [
              "Number of examples          : 37732"
            ]
          },
          "metadata": {}
        },
        {
          "output_type": "display_data",
          "data": {
            "text/html": [
              "<pre>Number of classes           : 6</pre>"
            ],
            "text/plain": [
              "Number of classes           : 6"
            ]
          },
          "metadata": {}
        },
        {
          "output_type": "display_data",
          "data": {
            "text/html": [
              "<pre>Number of feature columns   : 4</pre>"
            ],
            "text/plain": [
              "Number of feature columns   : 4"
            ]
          },
          "metadata": {}
        },
        {
          "output_type": "display_data",
          "data": {
            "text/html": [
              "<pre>Number of unpacked features : 139201</pre>"
            ],
            "text/plain": [
              "Number of unpacked features : 139201"
            ]
          },
          "metadata": {}
        },
        {
          "output_type": "display_data",
          "data": {
            "text/html": [
              "<pre>+-----------+--------------+-------------------+---------------------+-------------------+---------------------+</pre>"
            ],
            "text/plain": [
              "+-----------+--------------+-------------------+---------------------+-------------------+---------------------+"
            ]
          },
          "metadata": {}
        },
        {
          "output_type": "display_data",
          "data": {
            "text/html": [
              "<pre>| Iteration | Elapsed Time | Training Accuracy | Validation Accuracy | Training Log Loss | Validation Log Loss |</pre>"
            ],
            "text/plain": [
              "| Iteration | Elapsed Time | Training Accuracy | Validation Accuracy | Training Log Loss | Validation Log Loss |"
            ]
          },
          "metadata": {}
        },
        {
          "output_type": "display_data",
          "data": {
            "text/html": [
              "<pre>+-----------+--------------+-------------------+---------------------+-------------------+---------------------+</pre>"
            ],
            "text/plain": [
              "+-----------+--------------+-------------------+---------------------+-------------------+---------------------+"
            ]
          },
          "metadata": {}
        },
        {
          "output_type": "display_data",
          "data": {
            "text/html": [
              "<pre>| 1         | 7.447963     | 0.265663          | 0.233635            | 1.760960          | 1.776343            |</pre>"
            ],
            "text/plain": [
              "| 1         | 7.447963     | 0.265663          | 0.233635            | 1.760960          | 1.776343            |"
            ]
          },
          "metadata": {}
        },
        {
          "output_type": "display_data",
          "data": {
            "text/html": [
              "<pre>| 2         | 13.957326    | 0.295982          | 0.246727            | 1.736904          | 1.761821            |</pre>"
            ],
            "text/plain": [
              "| 2         | 13.957326    | 0.295982          | 0.246727            | 1.736904          | 1.761821            |"
            ]
          },
          "metadata": {}
        },
        {
          "output_type": "display_data",
          "data": {
            "text/html": [
              "<pre>| 3         | 20.342538    | 0.316469          | 0.246727            | 1.715685          | 1.752980            |</pre>"
            ],
            "text/plain": [
              "| 3         | 20.342538    | 0.316469          | 0.246727            | 1.715685          | 1.752980            |"
            ]
          },
          "metadata": {}
        },
        {
          "output_type": "display_data",
          "data": {
            "text/html": [
              "<pre>| 4         | 26.986208    | 0.332662          | 0.256294            | 1.696288          | 1.746066            |</pre>"
            ],
            "text/plain": [
              "| 4         | 26.986208    | 0.332662          | 0.256294            | 1.696288          | 1.746066            |"
            ]
          },
          "metadata": {}
        },
        {
          "output_type": "display_data",
          "data": {
            "text/html": [
              "<pre>| 5         | 33.474337    | 0.347636          | 0.260826            | 1.680118          | 1.740922            |</pre>"
            ],
            "text/plain": [
              "| 5         | 33.474337    | 0.347636          | 0.260826            | 1.680118          | 1.740922            |"
            ]
          },
          "metadata": {}
        },
        {
          "output_type": "display_data",
          "data": {
            "text/html": [
              "<pre>| 7         | 46.046968    | 0.371038          | 0.271903            | 1.651319          | 1.728985            |</pre>"
            ],
            "text/plain": [
              "| 7         | 46.046968    | 0.371038          | 0.271903            | 1.651319          | 1.728985            |"
            ]
          },
          "metadata": {}
        },
        {
          "output_type": "display_data",
          "data": {
            "text/html": [
              "<pre>| 8         | 51.923879    | 0.380234          | 0.268882            | 1.640247          | 1.725866            |</pre>"
            ],
            "text/plain": [
              "| 8         | 51.923879    | 0.380234          | 0.268882            | 1.640247          | 1.725866            |"
            ]
          },
          "metadata": {}
        },
        {
          "output_type": "display_data",
          "data": {
            "text/html": [
              "<pre>| 9         | 58.158569    | 0.390623          | 0.274421            | 1.627703          | 1.722066            |</pre>"
            ],
            "text/plain": [
              "| 9         | 58.158569    | 0.390623          | 0.274421            | 1.627703          | 1.722066            |"
            ]
          },
          "metadata": {}
        },
        {
          "output_type": "display_data",
          "data": {
            "text/html": [
              "<pre>| 10        | 64.158864    | 0.398998          | 0.278449            | 1.617955          | 1.718796            |</pre>"
            ],
            "text/plain": [
              "| 10        | 64.158864    | 0.398998          | 0.278449            | 1.617955          | 1.718796            |"
            ]
          },
          "metadata": {}
        },
        {
          "output_type": "display_data",
          "data": {
            "text/html": [
              "<pre>+-----------+--------------+-------------------+---------------------+-------------------+---------------------+</pre>"
            ],
            "text/plain": [
              "+-----------+--------------+-------------------+---------------------+-------------------+---------------------+"
            ]
          },
          "metadata": {}
        },
        {
          "output_type": "display_data",
          "data": {
            "text/html": [
              "<pre>Random forest classifier:</pre>"
            ],
            "text/plain": [
              "Random forest classifier:"
            ]
          },
          "metadata": {}
        },
        {
          "output_type": "display_data",
          "data": {
            "text/html": [
              "<pre>--------------------------------------------------------</pre>"
            ],
            "text/plain": [
              "--------------------------------------------------------"
            ]
          },
          "metadata": {}
        },
        {
          "output_type": "display_data",
          "data": {
            "text/html": [
              "<pre>Number of examples          : 37732</pre>"
            ],
            "text/plain": [
              "Number of examples          : 37732"
            ]
          },
          "metadata": {}
        },
        {
          "output_type": "display_data",
          "data": {
            "text/html": [
              "<pre>Number of classes           : 6</pre>"
            ],
            "text/plain": [
              "Number of classes           : 6"
            ]
          },
          "metadata": {}
        },
        {
          "output_type": "display_data",
          "data": {
            "text/html": [
              "<pre>Number of feature columns   : 4</pre>"
            ],
            "text/plain": [
              "Number of feature columns   : 4"
            ]
          },
          "metadata": {}
        },
        {
          "output_type": "display_data",
          "data": {
            "text/html": [
              "<pre>Number of unpacked features : 139201</pre>"
            ],
            "text/plain": [
              "Number of unpacked features : 139201"
            ]
          },
          "metadata": {}
        },
        {
          "output_type": "display_data",
          "data": {
            "text/html": [
              "<pre>+-----------+--------------+-------------------+---------------------+-------------------+---------------------+</pre>"
            ],
            "text/plain": [
              "+-----------+--------------+-------------------+---------------------+-------------------+---------------------+"
            ]
          },
          "metadata": {}
        },
        {
          "output_type": "display_data",
          "data": {
            "text/html": [
              "<pre>| Iteration | Elapsed Time | Training Accuracy | Validation Accuracy | Training Log Loss | Validation Log Loss |</pre>"
            ],
            "text/plain": [
              "| Iteration | Elapsed Time | Training Accuracy | Validation Accuracy | Training Log Loss | Validation Log Loss |"
            ]
          },
          "metadata": {}
        },
        {
          "output_type": "display_data",
          "data": {
            "text/html": [
              "<pre>+-----------+--------------+-------------------+---------------------+-------------------+---------------------+</pre>"
            ],
            "text/plain": [
              "+-----------+--------------+-------------------+---------------------+-------------------+---------------------+"
            ]
          },
          "metadata": {}
        },
        {
          "output_type": "display_data",
          "data": {
            "text/html": [
              "<pre>| 1         | 4.962872     | 0.267227          | 0.235650            | 1.717567          | 1.760250            |</pre>"
            ],
            "text/plain": [
              "| 1         | 4.962872     | 0.267227          | 0.235650            | 1.717567          | 1.760250            |"
            ]
          },
          "metadata": {}
        },
        {
          "output_type": "display_data",
          "data": {
            "text/html": [
              "<pre>| 2         | 10.132874    | 0.285381          | 0.244713            | 1.711755          | 1.748371            |</pre>"
            ],
            "text/plain": [
              "| 2         | 10.132874    | 0.285381          | 0.244713            | 1.711755          | 1.748371            |"
            ]
          },
          "metadata": {}
        },
        {
          "output_type": "display_data",
          "data": {
            "text/html": [
              "<pre>| 3         | 15.293689    | 0.291715          | 0.251762            | 1.707609          | 1.748641            |</pre>"
            ],
            "text/plain": [
              "| 3         | 15.293689    | 0.291715          | 0.251762            | 1.707609          | 1.748641            |"
            ]
          },
          "metadata": {}
        },
        {
          "output_type": "display_data",
          "data": {
            "text/html": [
              "<pre>| 4         | 20.433837    | 0.298977          | 0.253776            | 1.706874          | 1.750182            |</pre>"
            ],
            "text/plain": [
              "| 4         | 20.433837    | 0.298977          | 0.253776            | 1.706874          | 1.750182            |"
            ]
          },
          "metadata": {}
        },
        {
          "output_type": "display_data",
          "data": {
            "text/html": [
              "<pre>| 5         | 25.392290    | 0.305152          | 0.252769            | 1.705916          | 1.748993            |</pre>"
            ],
            "text/plain": [
              "| 5         | 25.392290    | 0.305152          | 0.252769            | 1.705916          | 1.748993            |"
            ]
          },
          "metadata": {}
        },
        {
          "output_type": "display_data",
          "data": {
            "text/html": [
              "<pre>| 7         | 35.584166    | 0.309631          | 0.259315            | 1.705608          | 1.746600            |</pre>"
            ],
            "text/plain": [
              "| 7         | 35.584166    | 0.309631          | 0.259315            | 1.705608          | 1.746600            |"
            ]
          },
          "metadata": {}
        },
        {
          "output_type": "display_data",
          "data": {
            "text/html": [
              "<pre>| 8         | 40.562926    | 0.313023          | 0.252769            | 1.705266          | 1.746667            |</pre>"
            ],
            "text/plain": [
              "| 8         | 40.562926    | 0.313023          | 0.252769            | 1.705266          | 1.746667            |"
            ]
          },
          "metadata": {}
        },
        {
          "output_type": "display_data",
          "data": {
            "text/html": [
              "<pre>| 9         | 45.506712    | 0.313766          | 0.254784            | 1.704749          | 1.746269            |</pre>"
            ],
            "text/plain": [
              "| 9         | 45.506712    | 0.313766          | 0.254784            | 1.704749          | 1.746269            |"
            ]
          },
          "metadata": {}
        },
        {
          "output_type": "display_data",
          "data": {
            "text/html": [
              "<pre>| 10        | 50.582271    | 0.316045          | 0.261329            | 1.704370          | 1.744129            |</pre>"
            ],
            "text/plain": [
              "| 10        | 50.582271    | 0.316045          | 0.261329            | 1.704370          | 1.744129            |"
            ]
          },
          "metadata": {}
        },
        {
          "output_type": "display_data",
          "data": {
            "text/html": [
              "<pre>+-----------+--------------+-------------------+---------------------+-------------------+---------------------+</pre>"
            ],
            "text/plain": [
              "+-----------+--------------+-------------------+---------------------+-------------------+---------------------+"
            ]
          },
          "metadata": {}
        },
        {
          "output_type": "display_data",
          "data": {
            "text/html": [
              "<pre>Decision tree classifier:</pre>"
            ],
            "text/plain": [
              "Decision tree classifier:"
            ]
          },
          "metadata": {}
        },
        {
          "output_type": "display_data",
          "data": {
            "text/html": [
              "<pre>--------------------------------------------------------</pre>"
            ],
            "text/plain": [
              "--------------------------------------------------------"
            ]
          },
          "metadata": {}
        },
        {
          "output_type": "display_data",
          "data": {
            "text/html": [
              "<pre>Number of examples          : 37732</pre>"
            ],
            "text/plain": [
              "Number of examples          : 37732"
            ]
          },
          "metadata": {}
        },
        {
          "output_type": "display_data",
          "data": {
            "text/html": [
              "<pre>Number of classes           : 6</pre>"
            ],
            "text/plain": [
              "Number of classes           : 6"
            ]
          },
          "metadata": {}
        },
        {
          "output_type": "display_data",
          "data": {
            "text/html": [
              "<pre>Number of feature columns   : 4</pre>"
            ],
            "text/plain": [
              "Number of feature columns   : 4"
            ]
          },
          "metadata": {}
        },
        {
          "output_type": "display_data",
          "data": {
            "text/html": [
              "<pre>Number of unpacked features : 139201</pre>"
            ],
            "text/plain": [
              "Number of unpacked features : 139201"
            ]
          },
          "metadata": {}
        },
        {
          "output_type": "display_data",
          "data": {
            "text/html": [
              "<pre>+-----------+--------------+-------------------+---------------------+-------------------+---------------------+</pre>"
            ],
            "text/plain": [
              "+-----------+--------------+-------------------+---------------------+-------------------+---------------------+"
            ]
          },
          "metadata": {}
        },
        {
          "output_type": "display_data",
          "data": {
            "text/html": [
              "<pre>| Iteration | Elapsed Time | Training Accuracy | Validation Accuracy | Training Log Loss | Validation Log Loss |</pre>"
            ],
            "text/plain": [
              "| Iteration | Elapsed Time | Training Accuracy | Validation Accuracy | Training Log Loss | Validation Log Loss |"
            ]
          },
          "metadata": {}
        },
        {
          "output_type": "display_data",
          "data": {
            "text/html": [
              "<pre>+-----------+--------------+-------------------+---------------------+-------------------+---------------------+</pre>"
            ],
            "text/plain": [
              "+-----------+--------------+-------------------+---------------------+-------------------+---------------------+"
            ]
          },
          "metadata": {}
        },
        {
          "output_type": "display_data",
          "data": {
            "text/html": [
              "<pre>| 1         | 6.058109     | 0.265663          | 0.233635            | 1.713975          | 1.764806            |</pre>"
            ],
            "text/plain": [
              "| 1         | 6.058109     | 0.265663          | 0.233635            | 1.713975          | 1.764806            |"
            ]
          },
          "metadata": {}
        },
        {
          "output_type": "display_data",
          "data": {
            "text/html": [
              "<pre>+-----------+--------------+-------------------+---------------------+-------------------+---------------------+</pre>"
            ],
            "text/plain": [
              "+-----------+--------------+-------------------+---------------------+-------------------+---------------------+"
            ]
          },
          "metadata": {}
        },
        {
          "output_type": "display_data",
          "data": {
            "text/html": [
              "<pre>Logistic regression:</pre>"
            ],
            "text/plain": [
              "Logistic regression:"
            ]
          },
          "metadata": {}
        },
        {
          "output_type": "display_data",
          "data": {
            "text/html": [
              "<pre>--------------------------------------------------------</pre>"
            ],
            "text/plain": [
              "--------------------------------------------------------"
            ]
          },
          "metadata": {}
        },
        {
          "output_type": "display_data",
          "data": {
            "text/html": [
              "<pre>Number of examples          : 37732</pre>"
            ],
            "text/plain": [
              "Number of examples          : 37732"
            ]
          },
          "metadata": {}
        },
        {
          "output_type": "display_data",
          "data": {
            "text/html": [
              "<pre>Number of classes           : 6</pre>"
            ],
            "text/plain": [
              "Number of classes           : 6"
            ]
          },
          "metadata": {}
        },
        {
          "output_type": "display_data",
          "data": {
            "text/html": [
              "<pre>Number of feature columns   : 4</pre>"
            ],
            "text/plain": [
              "Number of feature columns   : 4"
            ]
          },
          "metadata": {}
        },
        {
          "output_type": "display_data",
          "data": {
            "text/html": [
              "<pre>Number of unpacked features : 139201</pre>"
            ],
            "text/plain": [
              "Number of unpacked features : 139201"
            ]
          },
          "metadata": {}
        },
        {
          "output_type": "display_data",
          "data": {
            "text/html": [
              "<pre>Number of coefficients      : 696010</pre>"
            ],
            "text/plain": [
              "Number of coefficients      : 696010"
            ]
          },
          "metadata": {}
        },
        {
          "output_type": "display_data",
          "data": {
            "text/html": [
              "<pre>Starting L-BFGS</pre>"
            ],
            "text/plain": [
              "Starting L-BFGS"
            ]
          },
          "metadata": {}
        },
        {
          "output_type": "display_data",
          "data": {
            "text/html": [
              "<pre>--------------------------------------------------------</pre>"
            ],
            "text/plain": [
              "--------------------------------------------------------"
            ]
          },
          "metadata": {}
        },
        {
          "output_type": "display_data",
          "data": {
            "text/html": [
              "<pre>+-----------+----------+-----------+--------------+-------------------+---------------------+</pre>"
            ],
            "text/plain": [
              "+-----------+----------+-----------+--------------+-------------------+---------------------+"
            ]
          },
          "metadata": {}
        },
        {
          "output_type": "display_data",
          "data": {
            "text/html": [
              "<pre>| Iteration | Passes   | Step size | Elapsed Time | Training Accuracy | Validation Accuracy |</pre>"
            ],
            "text/plain": [
              "| Iteration | Passes   | Step size | Elapsed Time | Training Accuracy | Validation Accuracy |"
            ]
          },
          "metadata": {}
        },
        {
          "output_type": "display_data",
          "data": {
            "text/html": [
              "<pre>+-----------+----------+-----------+--------------+-------------------+---------------------+</pre>"
            ],
            "text/plain": [
              "+-----------+----------+-----------+--------------+-------------------+---------------------+"
            ]
          },
          "metadata": {}
        },
        {
          "output_type": "display_data",
          "data": {
            "text/html": [
              "<pre>| 0         | 2        | 1.000000  | 2.816002     | 0.542510          | 0.232628            |</pre>"
            ],
            "text/plain": [
              "| 0         | 2        | 1.000000  | 2.816002     | 0.542510          | 0.232628            |"
            ]
          },
          "metadata": {}
        },
        {
          "output_type": "display_data",
          "data": {
            "text/html": [
              "<pre>| 1         | 4        | 1.000000  | 98.222362    | 0.652311          | 0.266868            |</pre>"
            ],
            "text/plain": [
              "| 1         | 4        | 1.000000  | 98.222362    | 0.652311          | 0.266868            |"
            ]
          },
          "metadata": {}
        },
        {
          "output_type": "display_data",
          "data": {
            "text/html": [
              "<pre>| 2         | 10       | 3.165394  | 199.141242   | 0.737597          | 0.267372            |</pre>"
            ],
            "text/plain": [
              "| 2         | 10       | 3.165394  | 199.141242   | 0.737597          | 0.267372            |"
            ]
          },
          "metadata": {}
        },
        {
          "output_type": "display_data",
          "data": {
            "text/html": [
              "<pre>| 3         | 13       | 2.491082  | 298.764318   | 0.789357          | 0.294058            |</pre>"
            ],
            "text/plain": [
              "| 3         | 13       | 2.491082  | 298.764318   | 0.789357          | 0.294058            |"
            ]
          },
          "metadata": {}
        },
        {
          "output_type": "display_data",
          "data": {
            "text/html": [
              "<pre>| 4         | 14       | 2.491082  | 395.533425   | 0.801256          | 0.284491            |</pre>"
            ],
            "text/plain": [
              "| 4         | 14       | 2.491082  | 395.533425   | 0.801256          | 0.284491            |"
            ]
          },
          "metadata": {}
        },
        {
          "output_type": "display_data",
          "data": {
            "text/html": [
              "<pre>| 6         | 18       | 1.596040  | 585.725068   | 0.817502          | 0.290030            |</pre>"
            ],
            "text/plain": [
              "| 6         | 18       | 1.596040  | 585.725068   | 0.817502          | 0.290030            |"
            ]
          },
          "metadata": {}
        },
        {
          "output_type": "display_data",
          "data": {
            "text/html": [
              "<pre>| 7         | 19       | 1.596040  | 682.393553   | 0.835286          | 0.290030            |</pre>"
            ],
            "text/plain": [
              "| 7         | 19       | 1.596040  | 682.393553   | 0.835286          | 0.290030            |"
            ]
          },
          "metadata": {}
        },
        {
          "output_type": "display_data",
          "data": {
            "text/html": [
              "<pre>| 8         | 20       | 1.596040  | 781.569507   | 0.840136          | 0.296576            |</pre>"
            ],
            "text/plain": [
              "| 8         | 20       | 1.596040  | 781.569507   | 0.840136          | 0.296576            |"
            ]
          },
          "metadata": {}
        },
        {
          "output_type": "display_data",
          "data": {
            "text/html": [
              "<pre>| 9         | 21       | 1.596040  | 882.523786   | 0.846735          | 0.284995            |</pre>"
            ],
            "text/plain": [
              "| 9         | 21       | 1.596040  | 882.523786   | 0.846735          | 0.284995            |"
            ]
          },
          "metadata": {}
        },
        {
          "output_type": "display_data",
          "data": {
            "text/html": [
              "<pre>+-----------+----------+-----------+--------------+-------------------+---------------------+</pre>"
            ],
            "text/plain": [
              "+-----------+----------+-----------+--------------+-------------------+---------------------+"
            ]
          },
          "metadata": {}
        },
        {
          "output_type": "stream",
          "name": "stdout",
          "text": [
            "PROGRESS: Model selection based on validation accuracy:\n",
            "PROGRESS: ---------------------------------------------\n",
            "PROGRESS: BoostedTreesClassifier          : 0.27844914400805637\n",
            "PROGRESS: RandomForestClassifier          : 0.26132930513595165\n",
            "PROGRESS: DecisionTreeClassifier          : 0.23363544813695872\n",
            "PROGRESS: LogisticClassifier              : 0.2849949647532729\n",
            "PROGRESS: ---------------------------------------------\n",
            "PROGRESS: Selecting LogisticClassifier based on validation set performance.\n"
          ]
        }
      ]
    },
    {
      "cell_type": "code",
      "metadata": {
        "colab": {
          "base_uri": "https://localhost:8080/"
        },
        "id": "UB3eUcwTSmFQ",
        "outputId": "beb56f01-c429-4d8f-9176-0df3dde329bc"
      },
      "source": [
        "cls.evaluate(test)"
      ],
      "execution_count": 34,
      "outputs": [
        {
          "output_type": "execute_result",
          "data": {
            "text/plain": [
              "{'accuracy': 0.296689824274622,\n",
              " 'auc': 0.6249212795098147,\n",
              " 'confusion_matrix': Columns:\n",
              " \ttarget_label\tstr\n",
              " \tpredicted_label\tstr\n",
              " \tcount\tint\n",
              " \n",
              " Rows: 36\n",
              " \n",
              " Data:\n",
              " +--------------+-----------------+-------+\n",
              " | target_label | predicted_label | count |\n",
              " +--------------+-----------------+-------+\n",
              " |    rachel    |       ross      |  319  |\n",
              " |    phoebe    |       ross      |  196  |\n",
              " |   chandler   |       ross      |  295  |\n",
              " |   chandler   |      rachel     |  238  |\n",
              " |     ross     |      phoebe     |  174  |\n",
              " |    phoebe    |       joey      |  206  |\n",
              " |     joey     |      phoebe     |  166  |\n",
              " |     ross     |      rachel     |  261  |\n",
              " |    monica    |      phoebe     |  208  |\n",
              " |     joey     |     chandler    |  201  |\n",
              " +--------------+-----------------+-------+\n",
              " [36 rows x 3 columns]\n",
              " Note: Only the head of the SFrame is printed.\n",
              " You can use print_rows(num_rows=m, num_columns=n) to print more rows and columns.,\n",
              " 'f1_score': 0.29371600601868386,\n",
              " 'log_loss': 3.598003871191467,\n",
              " 'precision': 0.29411184763155807,\n",
              " 'recall': 0.2948827477534559,\n",
              " 'roc_curve': Columns:\n",
              " \tthreshold\tfloat\n",
              " \tfpr\tfloat\n",
              " \ttpr\tfloat\n",
              " \tp\tint\n",
              " \tn\tint\n",
              " \tclass\tint\n",
              " \n",
              " Rows: 6006\n",
              " \n",
              " Data:\n",
              " +-----------+--------------------+--------------------+------+------+-------+\n",
              " | threshold |        fpr         |        tpr         |  p   |  n   | class |\n",
              " +-----------+--------------------+--------------------+------+------+-------+\n",
              " |    0.0    |        1.0         |        1.0         | 1614 | 8174 |   0   |\n",
              " |   0.001   | 0.8286028872033276 | 0.9169764560099133 | 1614 | 8174 |   0   |\n",
              " |   0.002   | 0.7999755321751896 | 0.8909541511771994 | 1614 | 8174 |   0   |\n",
              " |   0.003   | 0.7768534377293859 | 0.8748451053283767 | 1614 | 8174 |   0   |\n",
              " |   0.004   | 0.7607046733545387 | 0.8605947955390335 | 1614 | 8174 |   0   |\n",
              " |   0.005   | 0.7489601174455591 | 0.8463444857496902 | 1614 | 8174 |   0   |\n",
              " |   0.006   | 0.7356251529239051 | 0.8351920693928129 | 1614 | 8174 |   0   |\n",
              " |   0.007   | 0.7249816491313922 | 0.8283767038413878 | 1614 | 8174 |   0   |\n",
              " |   0.008   | 0.7155615365793981 | 0.822180916976456  | 1614 | 8174 |   0   |\n",
              " |   0.009   | 0.7067531196476633 | 0.8166047087980174 | 1614 | 8174 |   0   |\n",
              " +-----------+--------------------+--------------------+------+------+-------+\n",
              " [6006 rows x 6 columns]\n",
              " Note: Only the head of the SFrame is printed.\n",
              " You can use print_rows(num_rows=m, num_columns=n) to print more rows and columns.}"
            ]
          },
          "metadata": {},
          "execution_count": 34
        }
      ]
    },
    {
      "cell_type": "markdown",
      "metadata": {
        "id": "kb77tKTGTuO7"
      },
      "source": [
        "**Using sentiment analysis to identify who are the most and less friendly friends**"
      ]
    },
    {
      "cell_type": "code",
      "metadata": {
        "colab": {
          "base_uri": "https://localhost:8080/",
          "height": 794
        },
        "id": "6wmuMTMaTzJq",
        "outputId": "0421bd66-c941-4722-aefc-3947a80ca9eb"
      },
      "source": [
        "from afinn import Afinn\n",
        "\n",
        "afinn = Afinn()\n",
        "# calc affin score for every quote\n",
        "sf['afinn_score'] = sf['qoute'].apply(lambda t: afinn.score(t))\n",
        "sf"
      ],
      "execution_count": 35,
      "outputs": [
        {
          "output_type": "execute_result",
          "data": {
            "text/html": [
              "<div style=\"max-height:1000px;max-width:1500px;overflow:auto;\"><table frame=\"box\" rules=\"cols\">\n",
              "    <tr>\n",
              "        <th style=\"padding-left: 1em; padding-right: 1em; text-align: center\">author</th>\n",
              "        <th style=\"padding-left: 1em; padding-right: 1em; text-align: center\">quote</th>\n",
              "        <th style=\"padding-left: 1em; padding-right: 1em; text-align: center\">Chars Number</th>\n",
              "        <th style=\"padding-left: 1em; padding-right: 1em; text-align: center\">Words Number</th>\n",
              "        <th style=\"padding-left: 1em; padding-right: 1em; text-align: center\">qoute</th>\n",
              "    </tr>\n",
              "    <tr>\n",
              "        <td style=\"padding-left: 1em; padding-right: 1em; text-align: center; vertical-align: top\">monica</td>\n",
              "        <td style=\"padding-left: 1em; padding-right: 1em; text-align: center; vertical-align: top\">There&#x27;s nothing to tell!<br>He&#x27;s just some guy I  ...</td>\n",
              "        <td style=\"padding-left: 1em; padding-right: 1em; text-align: center; vertical-align: top\">56</td>\n",
              "        <td style=\"padding-left: 1em; padding-right: 1em; text-align: center; vertical-align: top\">15</td>\n",
              "        <td style=\"padding-left: 1em; padding-right: 1em; text-align: center; vertical-align: top\">there&#x27;s nothing to tell!<br>he&#x27;s just some guy i  ...</td>\n",
              "    </tr>\n",
              "    <tr>\n",
              "        <td style=\"padding-left: 1em; padding-right: 1em; text-align: center; vertical-align: top\">joey</td>\n",
              "        <td style=\"padding-left: 1em; padding-right: 1em; text-align: center; vertical-align: top\">C&#x27;mon, you&#x27;re going out<br>with the guy! There&#x27;s ...</td>\n",
              "        <td style=\"padding-left: 1em; padding-right: 1em; text-align: center; vertical-align: top\">80</td>\n",
              "        <td style=\"padding-left: 1em; padding-right: 1em; text-align: center; vertical-align: top\">20</td>\n",
              "        <td style=\"padding-left: 1em; padding-right: 1em; text-align: center; vertical-align: top\">c&#x27;mon, you&#x27;re going out<br>with the guy! there&#x27;s ...</td>\n",
              "    </tr>\n",
              "    <tr>\n",
              "        <td style=\"padding-left: 1em; padding-right: 1em; text-align: center; vertical-align: top\">chandler</td>\n",
              "        <td style=\"padding-left: 1em; padding-right: 1em; text-align: center; vertical-align: top\">All right Joey, be nice.<br>So does he have a hum ...</td>\n",
              "        <td style=\"padding-left: 1em; padding-right: 1em; text-align: center; vertical-align: top\">72</td>\n",
              "        <td style=\"padding-left: 1em; padding-right: 1em; text-align: center; vertical-align: top\">20</td>\n",
              "        <td style=\"padding-left: 1em; padding-right: 1em; text-align: center; vertical-align: top\">all right joey, be nice.<br>so does he have a hum ...</td>\n",
              "    </tr>\n",
              "    <tr>\n",
              "        <td style=\"padding-left: 1em; padding-right: 1em; text-align: center; vertical-align: top\">phoebe</td>\n",
              "        <td style=\"padding-left: 1em; padding-right: 1em; text-align: center; vertical-align: top\">Wait, does he eat chalk?</td>\n",
              "        <td style=\"padding-left: 1em; padding-right: 1em; text-align: center; vertical-align: top\">24</td>\n",
              "        <td style=\"padding-left: 1em; padding-right: 1em; text-align: center; vertical-align: top\">7</td>\n",
              "        <td style=\"padding-left: 1em; padding-right: 1em; text-align: center; vertical-align: top\">wait, does he eat chalk?</td>\n",
              "    </tr>\n",
              "    <tr>\n",
              "        <td style=\"padding-left: 1em; padding-right: 1em; text-align: center; vertical-align: top\">phoebe</td>\n",
              "        <td style=\"padding-left: 1em; padding-right: 1em; text-align: center; vertical-align: top\">Just, &#x27;cause, I don&#x27;t<br>want her to go through ...</td>\n",
              "        <td style=\"padding-left: 1em; padding-right: 1em; text-align: center; vertical-align: top\">79</td>\n",
              "        <td style=\"padding-left: 1em; padding-right: 1em; text-align: center; vertical-align: top\">20</td>\n",
              "        <td style=\"padding-left: 1em; padding-right: 1em; text-align: center; vertical-align: top\">just, &#x27;cause, i don&#x27;t<br>want her to go through ...</td>\n",
              "    </tr>\n",
              "    <tr>\n",
              "        <td style=\"padding-left: 1em; padding-right: 1em; text-align: center; vertical-align: top\">monica</td>\n",
              "        <td style=\"padding-left: 1em; padding-right: 1em; text-align: center; vertical-align: top\">Okay, everybody relax.<br>This is not even a date. ...</td>\n",
              "        <td style=\"padding-left: 1em; padding-right: 1em; text-align: center; vertical-align: top\">109</td>\n",
              "        <td style=\"padding-left: 1em; padding-right: 1em; text-align: center; vertical-align: top\">26</td>\n",
              "        <td style=\"padding-left: 1em; padding-right: 1em; text-align: center; vertical-align: top\">okay, everybody relax.<br>this is not even a date. ...</td>\n",
              "    </tr>\n",
              "    <tr>\n",
              "        <td style=\"padding-left: 1em; padding-right: 1em; text-align: center; vertical-align: top\">chandler</td>\n",
              "        <td style=\"padding-left: 1em; padding-right: 1em; text-align: center; vertical-align: top\">Sounds like a date to me.</td>\n",
              "        <td style=\"padding-left: 1em; padding-right: 1em; text-align: center; vertical-align: top\">25</td>\n",
              "        <td style=\"padding-left: 1em; padding-right: 1em; text-align: center; vertical-align: top\">7</td>\n",
              "        <td style=\"padding-left: 1em; padding-right: 1em; text-align: center; vertical-align: top\">sounds like a date to me.</td>\n",
              "    </tr>\n",
              "    <tr>\n",
              "        <td style=\"padding-left: 1em; padding-right: 1em; text-align: center; vertical-align: top\">chandler</td>\n",
              "        <td style=\"padding-left: 1em; padding-right: 1em; text-align: center; vertical-align: top\">Alright, so I&#x27;m back in<br>high school, I&#x27;m stan ...</td>\n",
              "        <td style=\"padding-left: 1em; padding-right: 1em; text-align: center; vertical-align: top\">115</td>\n",
              "        <td style=\"padding-left: 1em; padding-right: 1em; text-align: center; vertical-align: top\">28</td>\n",
              "        <td style=\"padding-left: 1em; padding-right: 1em; text-align: center; vertical-align: top\">alright, so i&#x27;m back in<br>high school, i&#x27;m stan ...</td>\n",
              "    </tr>\n",
              "    <tr>\n",
              "        <td style=\"padding-left: 1em; padding-right: 1em; text-align: center; vertical-align: top\">chandler</td>\n",
              "        <td style=\"padding-left: 1em; padding-right: 1em; text-align: center; vertical-align: top\">Then I look down, and I<br>realize there&#x27;s a ...</td>\n",
              "        <td style=\"padding-left: 1em; padding-right: 1em; text-align: center; vertical-align: top\">57</td>\n",
              "        <td style=\"padding-left: 1em; padding-right: 1em; text-align: center; vertical-align: top\">15</td>\n",
              "        <td style=\"padding-left: 1em; padding-right: 1em; text-align: center; vertical-align: top\">then i look down, and i<br>realize there&#x27;s a ...</td>\n",
              "    </tr>\n",
              "    <tr>\n",
              "        <td style=\"padding-left: 1em; padding-right: 1em; text-align: center; vertical-align: top\">joey</td>\n",
              "        <td style=\"padding-left: 1em; padding-right: 1em; text-align: center; vertical-align: top\">Instead of...?</td>\n",
              "        <td style=\"padding-left: 1em; padding-right: 1em; text-align: center; vertical-align: top\">14</td>\n",
              "        <td style=\"padding-left: 1em; padding-right: 1em; text-align: center; vertical-align: top\">4</td>\n",
              "        <td style=\"padding-left: 1em; padding-right: 1em; text-align: center; vertical-align: top\">instead of...?</td>\n",
              "    </tr>\n",
              "</table>\n",
              "<table frame=\"box\" rules=\"cols\">\n",
              "    <tr>\n",
              "        <th style=\"padding-left: 1em; padding-right: 1em; text-align: center\">bow</th>\n",
              "        <th style=\"padding-left: 1em; padding-right: 1em; text-align: center\">word_2gram</th>\n",
              "        <th style=\"padding-left: 1em; padding-right: 1em; text-align: center\">vector</th>\n",
              "        <th style=\"padding-left: 1em; padding-right: 1em; text-align: center\">afinn_score</th>\n",
              "    </tr>\n",
              "    <tr>\n",
              "        <td style=\"padding-left: 1em; padding-right: 1em; text-align: center; vertical-align: top\">{&#x27;work&#x27;: 1.0, &#x27;guy&#x27;: 1.0}</td>\n",
              "        <td style=\"padding-left: 1em; padding-right: 1em; text-align: center; vertical-align: top\">{&#x27;work with&#x27;: 1, &#x27;i<br>work&#x27;: 1, &#x27;tell he&#x27;: 1, ...</td>\n",
              "        <td style=\"padding-left: 1em; padding-right: 1em; text-align: center; vertical-align: top\">[-6.18888177e-02<br>2.65797228e-01 ...</td>\n",
              "        <td style=\"padding-left: 1em; padding-right: 1em; text-align: center; vertical-align: top\">0.0</td>\n",
              "    </tr>\n",
              "    <tr>\n",
              "        <td style=\"padding-left: 1em; padding-right: 1em; text-align: center; vertical-align: top\">{&#x27;wrong&#x27;: 1.0, &#x27;gotta&#x27;:<br>1.0, &#x27;mon&#x27;: 1.0, &#x27;guy&#x27;: ...</td>\n",
              "        <td style=\"padding-left: 1em; padding-right: 1em; text-align: center; vertical-align: top\">{&#x27;something wrong&#x27;: 1,<br>&#x27;be something&#x27;: 1, &#x27;g ...</td>\n",
              "        <td style=\"padding-left: 1em; padding-right: 1em; text-align: center; vertical-align: top\">[-1.22622110e-01<br>1.81547493e-01 ...</td>\n",
              "        <td style=\"padding-left: 1em; padding-right: 1em; text-align: center; vertical-align: top\">-2.0</td>\n",
              "    </tr>\n",
              "    <tr>\n",
              "        <td style=\"padding-left: 1em; padding-right: 1em; text-align: center; vertical-align: top\">{&#x27;hairpiece&#x27;: 1.0,<br>&#x27;hump&#x27;: 2.0, &#x27;joey&#x27;:  ...</td>\n",
              "        <td style=\"padding-left: 1em; padding-right: 1em; text-align: center; vertical-align: top\">{&#x27;hump and&#x27;: 1, &#x27;hump a&#x27;:<br>1, &#x27;all right&#x27;: 1, &#x27;and ...</td>\n",
              "        <td style=\"padding-left: 1em; padding-right: 1em; text-align: center; vertical-align: top\">[-9.82086826e-03<br>9.88112614e-02 ...</td>\n",
              "        <td style=\"padding-left: 1em; padding-right: 1em; text-align: center; vertical-align: top\">3.0</td>\n",
              "    </tr>\n",
              "    <tr>\n",
              "        <td style=\"padding-left: 1em; padding-right: 1em; text-align: center; vertical-align: top\">{&#x27;chalk&#x27;: 1.0, &#x27;eat&#x27;:<br>1.0, &#x27;wait&#x27;: 1.0} ...</td>\n",
              "        <td style=\"padding-left: 1em; padding-right: 1em; text-align: center; vertical-align: top\">{&#x27;eat chalk&#x27;: 1, &#x27;he<br>eat&#x27;: 1, &#x27;does he&#x27;: 1, ...</td>\n",
              "        <td style=\"padding-left: 1em; padding-right: 1em; text-align: center; vertical-align: top\">[-3.71425711e-02<br>2.29819149e-01 ...</td>\n",
              "        <td style=\"padding-left: 1em; padding-right: 1em; text-align: center; vertical-align: top\">0.0</td>\n",
              "    </tr>\n",
              "    <tr>\n",
              "        <td style=\"padding-left: 1em; padding-right: 1em; text-align: center; vertical-align: top\">{&#x27;carl&#x27;: 1.0, &#x27;don&#x27;: 1.0}</td>\n",
              "        <td style=\"padding-left: 1em; padding-right: 1em; text-align: center; vertical-align: top\">{&#x27;with carl&#x27;: 1, &#x27;went<br>through&#x27;: 1, &#x27;through ...</td>\n",
              "        <td style=\"padding-left: 1em; padding-right: 1em; text-align: center; vertical-align: top\">[ 4.21000049e-02<br>2.36502886e-01 ...</td>\n",
              "        <td style=\"padding-left: 1em; padding-right: 1em; text-align: center; vertical-align: top\">1.0</td>\n",
              "    </tr>\n",
              "    <tr>\n",
              "        <td style=\"padding-left: 1em; padding-right: 1em; text-align: center; vertical-align: top\">{&#x27;dinner&#x27;: 1.0, &#x27;relax&#x27;:<br>1.0, &#x27;sex&#x27;: 1.0, ...</td>\n",
              "        <td style=\"padding-left: 1em; padding-right: 1em; text-align: center; vertical-align: top\">{&#x27;having sex&#x27;: 1, &#x27;not<br>having&#x27;: 1, &#x27;to dinner&#x27;: ...</td>\n",
              "        <td style=\"padding-left: 1em; padding-right: 1em; text-align: center; vertical-align: top\">[-1.00040007e-02<br>1.46241844e-01 ...</td>\n",
              "        <td style=\"padding-left: 1em; padding-right: 1em; text-align: center; vertical-align: top\">0.0</td>\n",
              "    </tr>\n",
              "    <tr>\n",
              "        <td style=\"padding-left: 1em; padding-right: 1em; text-align: center; vertical-align: top\">{&#x27;date&#x27;: 1.0, &#x27;sounds&#x27;:<br>1.0} ...</td>\n",
              "        <td style=\"padding-left: 1em; padding-right: 1em; text-align: center; vertical-align: top\">{&#x27;to me&#x27;: 1, &#x27;date to&#x27;:<br>1, &#x27;a date&#x27;: 1, &#x27;like ...</td>\n",
              "        <td style=\"padding-left: 1em; padding-right: 1em; text-align: center; vertical-align: top\">[ 4.51041423e-02<br>1.73930570e-01 ...</td>\n",
              "        <td style=\"padding-left: 1em; padding-right: 1em; text-align: center; vertical-align: top\">2.0</td>\n",
              "    </tr>\n",
              "    <tr>\n",
              "        <td style=\"padding-left: 1em; padding-right: 1em; text-align: center; vertical-align: top\">{&#x27;totally&#x27;: 1.0,<br>&#x27;alright&#x27;: 1.0, &#x27;high&#x27;: ...</td>\n",
              "        <td style=\"padding-left: 1em; padding-right: 1em; text-align: center; vertical-align: top\">{&#x27;am totally&#x27;: 1, &#x27;i am&#x27;:<br>1, &#x27;realize i&#x27;: 1, &#x27;i ...</td>\n",
              "        <td style=\"padding-left: 1em; padding-right: 1em; text-align: center; vertical-align: top\">[ 1.14625013e-02<br>2.69849598e-01 ...</td>\n",
              "        <td style=\"padding-left: 1em; padding-right: 1em; text-align: center; vertical-align: top\">0.0</td>\n",
              "    </tr>\n",
              "    <tr>\n",
              "        <td style=\"padding-left: 1em; padding-right: 1em; text-align: center; vertical-align: top\">{&#x27;realize&#x27;: 1.0, &#x27;phone&#x27;:<br>1.0} ...</td>\n",
              "        <td style=\"padding-left: 1em; padding-right: 1em; text-align: center; vertical-align: top\">{&#x27;phone there&#x27;: 1, &#x27;i<br>look&#x27;: 1, &#x27;look down&#x27; ...</td>\n",
              "        <td style=\"padding-left: 1em; padding-right: 1em; text-align: center; vertical-align: top\">[ 7.12726032e-03<br>2.44098589e-01 ...</td>\n",
              "        <td style=\"padding-left: 1em; padding-right: 1em; text-align: center; vertical-align: top\">0.0</td>\n",
              "    </tr>\n",
              "    <tr>\n",
              "        <td style=\"padding-left: 1em; padding-right: 1em; text-align: center; vertical-align: top\">{}</td>\n",
              "        <td style=\"padding-left: 1em; padding-right: 1em; text-align: center; vertical-align: top\">{&#x27;instead of&#x27;: 1}</td>\n",
              "        <td style=\"padding-left: 1em; padding-right: 1em; text-align: center; vertical-align: top\">[-1.22297760e-02<br>1.30369991e-01 ...</td>\n",
              "        <td style=\"padding-left: 1em; padding-right: 1em; text-align: center; vertical-align: top\">0.0</td>\n",
              "    </tr>\n",
              "</table>\n",
              "[49506 rows x 9 columns]<br/>Note: Only the head of the SFrame is printed.<br/>You can use print_rows(num_rows=m, num_columns=n) to print more rows and columns.\n",
              "</div>"
            ],
            "text/plain": [
              "Columns:\n",
              "\tauthor\tstr\n",
              "\tquote\tstr\n",
              "\tChars Number\tint\n",
              "\tWords Number\tint\n",
              "\tqoute\tstr\n",
              "\tbow\tdict\n",
              "\tword_2gram\tdict\n",
              "\tvector\tndarray\n",
              "\tafinn_score\tfloat\n",
              "\n",
              "Rows: 49506\n",
              "\n",
              "Data:\n",
              "+----------+-------------------------------+--------------+--------------+\n",
              "|  author  |             quote             | Chars Number | Words Number |\n",
              "+----------+-------------------------------+--------------+--------------+\n",
              "|  monica  | There's nothing to tell! H... |      56      |      15      |\n",
              "|   joey   | C'mon, you're going out wi... |      80      |      20      |\n",
              "| chandler | All right Joey, be nice. S... |      72      |      20      |\n",
              "|  phoebe  |    Wait, does he eat chalk?   |      24      |      7       |\n",
              "|  phoebe  | Just, 'cause, I don't want... |      79      |      20      |\n",
              "|  monica  | Okay, everybody relax. Thi... |     109      |      26      |\n",
              "| chandler |   Sounds like a date to me.   |      25      |      7       |\n",
              "| chandler | Alright, so I'm back in hi... |     115      |      28      |\n",
              "| chandler | Then I look down, and I re... |      57      |      15      |\n",
              "|   joey   |         Instead of...?        |      14      |      4       |\n",
              "+----------+-------------------------------+--------------+--------------+\n",
              "+-------------------------------+--------------------------------+\n",
              "|             qoute             |              bow               |\n",
              "+-------------------------------+--------------------------------+\n",
              "| there's nothing to tell! h... |   {'work': 1.0, 'guy': 1.0}    |\n",
              "| c'mon, you're going out wi... | {'wrong': 1.0, 'gotta': 1....  |\n",
              "| all right joey, be nice. s... | {'hairpiece': 1.0, 'hump':...  |\n",
              "|    wait, does he eat chalk?   | {'chalk': 1.0, 'eat': 1.0,...  |\n",
              "| just, 'cause, i don't want... |   {'carl': 1.0, 'don': 1.0}    |\n",
              "| okay, everybody relax. thi... | {'dinner': 1.0, 'relax': 1...  |\n",
              "|   sounds like a date to me.   |  {'date': 1.0, 'sounds': 1.0}  |\n",
              "| alright, so i'm back in hi... | {'totally': 1.0, 'alright'...  |\n",
              "| then i look down, and i re... | {'realize': 1.0, 'phone': 1.0} |\n",
              "|         instead of...?        |               {}               |\n",
              "+-------------------------------+--------------------------------+\n",
              "+-------------------------------+-------------------------------+-------------+\n",
              "|           word_2gram          |             vector            | afinn_score |\n",
              "+-------------------------------+-------------------------------+-------------+\n",
              "| {'work with': 1, 'i work':... | [-6.18888177e-02  2.657972... |     0.0     |\n",
              "| {'something wrong': 1, 'be... | [-1.22622110e-01  1.815474... |     -2.0    |\n",
              "| {'hump and': 1, 'hump a': ... | [-9.82086826e-03  9.881126... |     3.0     |\n",
              "| {'eat chalk': 1, 'he eat':... | [-3.71425711e-02  2.298191... |     0.0     |\n",
              "| {'with carl': 1, 'went thr... | [ 4.21000049e-02  2.365028... |     1.0     |\n",
              "| {'having sex': 1, 'not hav... | [-1.00040007e-02  1.462418... |     0.0     |\n",
              "| {'to me': 1, 'date to': 1,... | [ 4.51041423e-02  1.739305... |     2.0     |\n",
              "| {'am totally': 1, 'i am': ... | [ 1.14625013e-02  2.698495... |     0.0     |\n",
              "| {'phone there': 1, 'i look... | [ 7.12726032e-03  2.440985... |     0.0     |\n",
              "|       {'instead of': 1}       | [-1.22297760e-02  1.303699... |     0.0     |\n",
              "+-------------------------------+-------------------------------+-------------+\n",
              "[49506 rows x 9 columns]\n",
              "Note: Only the head of the SFrame is printed.\n",
              "You can use print_rows(num_rows=m, num_columns=n) to print more rows and columns."
            ]
          },
          "metadata": {},
          "execution_count": 35
        }
      ]
    },
    {
      "cell_type": "code",
      "metadata": {
        "colab": {
          "base_uri": "https://localhost:8080/",
          "height": 794
        },
        "id": "15rD7tDAUy2o",
        "outputId": "5ff7601d-17a9-42ba-e6d2-65e7055fde51"
      },
      "source": [
        "from textblob import TextBlob\n",
        "# calc textblob score for every qoute\n",
        "sf['textblob_score'] = sf['qoute'].apply(lambda t: TextBlob(t).sentiment.polarity)\n",
        "sf"
      ],
      "execution_count": 36,
      "outputs": [
        {
          "output_type": "execute_result",
          "data": {
            "text/html": [
              "<div style=\"max-height:1000px;max-width:1500px;overflow:auto;\"><table frame=\"box\" rules=\"cols\">\n",
              "    <tr>\n",
              "        <th style=\"padding-left: 1em; padding-right: 1em; text-align: center\">author</th>\n",
              "        <th style=\"padding-left: 1em; padding-right: 1em; text-align: center\">quote</th>\n",
              "        <th style=\"padding-left: 1em; padding-right: 1em; text-align: center\">Chars Number</th>\n",
              "        <th style=\"padding-left: 1em; padding-right: 1em; text-align: center\">Words Number</th>\n",
              "        <th style=\"padding-left: 1em; padding-right: 1em; text-align: center\">qoute</th>\n",
              "    </tr>\n",
              "    <tr>\n",
              "        <td style=\"padding-left: 1em; padding-right: 1em; text-align: center; vertical-align: top\">monica</td>\n",
              "        <td style=\"padding-left: 1em; padding-right: 1em; text-align: center; vertical-align: top\">There&#x27;s nothing to tell!<br>He&#x27;s just some guy I  ...</td>\n",
              "        <td style=\"padding-left: 1em; padding-right: 1em; text-align: center; vertical-align: top\">56</td>\n",
              "        <td style=\"padding-left: 1em; padding-right: 1em; text-align: center; vertical-align: top\">15</td>\n",
              "        <td style=\"padding-left: 1em; padding-right: 1em; text-align: center; vertical-align: top\">there&#x27;s nothing to tell!<br>he&#x27;s just some guy i  ...</td>\n",
              "    </tr>\n",
              "    <tr>\n",
              "        <td style=\"padding-left: 1em; padding-right: 1em; text-align: center; vertical-align: top\">joey</td>\n",
              "        <td style=\"padding-left: 1em; padding-right: 1em; text-align: center; vertical-align: top\">C&#x27;mon, you&#x27;re going out<br>with the guy! There&#x27;s ...</td>\n",
              "        <td style=\"padding-left: 1em; padding-right: 1em; text-align: center; vertical-align: top\">80</td>\n",
              "        <td style=\"padding-left: 1em; padding-right: 1em; text-align: center; vertical-align: top\">20</td>\n",
              "        <td style=\"padding-left: 1em; padding-right: 1em; text-align: center; vertical-align: top\">c&#x27;mon, you&#x27;re going out<br>with the guy! there&#x27;s ...</td>\n",
              "    </tr>\n",
              "    <tr>\n",
              "        <td style=\"padding-left: 1em; padding-right: 1em; text-align: center; vertical-align: top\">chandler</td>\n",
              "        <td style=\"padding-left: 1em; padding-right: 1em; text-align: center; vertical-align: top\">All right Joey, be nice.<br>So does he have a hum ...</td>\n",
              "        <td style=\"padding-left: 1em; padding-right: 1em; text-align: center; vertical-align: top\">72</td>\n",
              "        <td style=\"padding-left: 1em; padding-right: 1em; text-align: center; vertical-align: top\">20</td>\n",
              "        <td style=\"padding-left: 1em; padding-right: 1em; text-align: center; vertical-align: top\">all right joey, be nice.<br>so does he have a hum ...</td>\n",
              "    </tr>\n",
              "    <tr>\n",
              "        <td style=\"padding-left: 1em; padding-right: 1em; text-align: center; vertical-align: top\">phoebe</td>\n",
              "        <td style=\"padding-left: 1em; padding-right: 1em; text-align: center; vertical-align: top\">Wait, does he eat chalk?</td>\n",
              "        <td style=\"padding-left: 1em; padding-right: 1em; text-align: center; vertical-align: top\">24</td>\n",
              "        <td style=\"padding-left: 1em; padding-right: 1em; text-align: center; vertical-align: top\">7</td>\n",
              "        <td style=\"padding-left: 1em; padding-right: 1em; text-align: center; vertical-align: top\">wait, does he eat chalk?</td>\n",
              "    </tr>\n",
              "    <tr>\n",
              "        <td style=\"padding-left: 1em; padding-right: 1em; text-align: center; vertical-align: top\">phoebe</td>\n",
              "        <td style=\"padding-left: 1em; padding-right: 1em; text-align: center; vertical-align: top\">Just, &#x27;cause, I don&#x27;t<br>want her to go through ...</td>\n",
              "        <td style=\"padding-left: 1em; padding-right: 1em; text-align: center; vertical-align: top\">79</td>\n",
              "        <td style=\"padding-left: 1em; padding-right: 1em; text-align: center; vertical-align: top\">20</td>\n",
              "        <td style=\"padding-left: 1em; padding-right: 1em; text-align: center; vertical-align: top\">just, &#x27;cause, i don&#x27;t<br>want her to go through ...</td>\n",
              "    </tr>\n",
              "    <tr>\n",
              "        <td style=\"padding-left: 1em; padding-right: 1em; text-align: center; vertical-align: top\">monica</td>\n",
              "        <td style=\"padding-left: 1em; padding-right: 1em; text-align: center; vertical-align: top\">Okay, everybody relax.<br>This is not even a date. ...</td>\n",
              "        <td style=\"padding-left: 1em; padding-right: 1em; text-align: center; vertical-align: top\">109</td>\n",
              "        <td style=\"padding-left: 1em; padding-right: 1em; text-align: center; vertical-align: top\">26</td>\n",
              "        <td style=\"padding-left: 1em; padding-right: 1em; text-align: center; vertical-align: top\">okay, everybody relax.<br>this is not even a date. ...</td>\n",
              "    </tr>\n",
              "    <tr>\n",
              "        <td style=\"padding-left: 1em; padding-right: 1em; text-align: center; vertical-align: top\">chandler</td>\n",
              "        <td style=\"padding-left: 1em; padding-right: 1em; text-align: center; vertical-align: top\">Sounds like a date to me.</td>\n",
              "        <td style=\"padding-left: 1em; padding-right: 1em; text-align: center; vertical-align: top\">25</td>\n",
              "        <td style=\"padding-left: 1em; padding-right: 1em; text-align: center; vertical-align: top\">7</td>\n",
              "        <td style=\"padding-left: 1em; padding-right: 1em; text-align: center; vertical-align: top\">sounds like a date to me.</td>\n",
              "    </tr>\n",
              "    <tr>\n",
              "        <td style=\"padding-left: 1em; padding-right: 1em; text-align: center; vertical-align: top\">chandler</td>\n",
              "        <td style=\"padding-left: 1em; padding-right: 1em; text-align: center; vertical-align: top\">Alright, so I&#x27;m back in<br>high school, I&#x27;m stan ...</td>\n",
              "        <td style=\"padding-left: 1em; padding-right: 1em; text-align: center; vertical-align: top\">115</td>\n",
              "        <td style=\"padding-left: 1em; padding-right: 1em; text-align: center; vertical-align: top\">28</td>\n",
              "        <td style=\"padding-left: 1em; padding-right: 1em; text-align: center; vertical-align: top\">alright, so i&#x27;m back in<br>high school, i&#x27;m stan ...</td>\n",
              "    </tr>\n",
              "    <tr>\n",
              "        <td style=\"padding-left: 1em; padding-right: 1em; text-align: center; vertical-align: top\">chandler</td>\n",
              "        <td style=\"padding-left: 1em; padding-right: 1em; text-align: center; vertical-align: top\">Then I look down, and I<br>realize there&#x27;s a ...</td>\n",
              "        <td style=\"padding-left: 1em; padding-right: 1em; text-align: center; vertical-align: top\">57</td>\n",
              "        <td style=\"padding-left: 1em; padding-right: 1em; text-align: center; vertical-align: top\">15</td>\n",
              "        <td style=\"padding-left: 1em; padding-right: 1em; text-align: center; vertical-align: top\">then i look down, and i<br>realize there&#x27;s a ...</td>\n",
              "    </tr>\n",
              "    <tr>\n",
              "        <td style=\"padding-left: 1em; padding-right: 1em; text-align: center; vertical-align: top\">joey</td>\n",
              "        <td style=\"padding-left: 1em; padding-right: 1em; text-align: center; vertical-align: top\">Instead of...?</td>\n",
              "        <td style=\"padding-left: 1em; padding-right: 1em; text-align: center; vertical-align: top\">14</td>\n",
              "        <td style=\"padding-left: 1em; padding-right: 1em; text-align: center; vertical-align: top\">4</td>\n",
              "        <td style=\"padding-left: 1em; padding-right: 1em; text-align: center; vertical-align: top\">instead of...?</td>\n",
              "    </tr>\n",
              "</table>\n",
              "<table frame=\"box\" rules=\"cols\">\n",
              "    <tr>\n",
              "        <th style=\"padding-left: 1em; padding-right: 1em; text-align: center\">bow</th>\n",
              "        <th style=\"padding-left: 1em; padding-right: 1em; text-align: center\">word_2gram</th>\n",
              "        <th style=\"padding-left: 1em; padding-right: 1em; text-align: center\">vector</th>\n",
              "        <th style=\"padding-left: 1em; padding-right: 1em; text-align: center\">afinn_score</th>\n",
              "        <th style=\"padding-left: 1em; padding-right: 1em; text-align: center\">textblob_score</th>\n",
              "    </tr>\n",
              "    <tr>\n",
              "        <td style=\"padding-left: 1em; padding-right: 1em; text-align: center; vertical-align: top\">{&#x27;work&#x27;: 1.0, &#x27;guy&#x27;: 1.0}</td>\n",
              "        <td style=\"padding-left: 1em; padding-right: 1em; text-align: center; vertical-align: top\">{&#x27;work with&#x27;: 1, &#x27;i<br>work&#x27;: 1, &#x27;tell he&#x27;: 1, ...</td>\n",
              "        <td style=\"padding-left: 1em; padding-right: 1em; text-align: center; vertical-align: top\">[-6.18888177e-02<br>2.65797228e-01 ...</td>\n",
              "        <td style=\"padding-left: 1em; padding-right: 1em; text-align: center; vertical-align: top\">0.0</td>\n",
              "        <td style=\"padding-left: 1em; padding-right: 1em; text-align: center; vertical-align: top\">0.0</td>\n",
              "    </tr>\n",
              "    <tr>\n",
              "        <td style=\"padding-left: 1em; padding-right: 1em; text-align: center; vertical-align: top\">{&#x27;wrong&#x27;: 1.0, &#x27;gotta&#x27;:<br>1.0, &#x27;mon&#x27;: 1.0, &#x27;guy&#x27;: ...</td>\n",
              "        <td style=\"padding-left: 1em; padding-right: 1em; text-align: center; vertical-align: top\">{&#x27;something wrong&#x27;: 1,<br>&#x27;be something&#x27;: 1, &#x27;g ...</td>\n",
              "        <td style=\"padding-left: 1em; padding-right: 1em; text-align: center; vertical-align: top\">[-1.22622110e-01<br>1.81547493e-01 ...</td>\n",
              "        <td style=\"padding-left: 1em; padding-right: 1em; text-align: center; vertical-align: top\">-2.0</td>\n",
              "        <td style=\"padding-left: 1em; padding-right: 1em; text-align: center; vertical-align: top\">-0.625</td>\n",
              "    </tr>\n",
              "    <tr>\n",
              "        <td style=\"padding-left: 1em; padding-right: 1em; text-align: center; vertical-align: top\">{&#x27;hairpiece&#x27;: 1.0,<br>&#x27;hump&#x27;: 2.0, &#x27;joey&#x27;:  ...</td>\n",
              "        <td style=\"padding-left: 1em; padding-right: 1em; text-align: center; vertical-align: top\">{&#x27;hump and&#x27;: 1, &#x27;hump a&#x27;:<br>1, &#x27;all right&#x27;: 1, &#x27;and ...</td>\n",
              "        <td style=\"padding-left: 1em; padding-right: 1em; text-align: center; vertical-align: top\">[-9.82086826e-03<br>9.88112614e-02 ...</td>\n",
              "        <td style=\"padding-left: 1em; padding-right: 1em; text-align: center; vertical-align: top\">3.0</td>\n",
              "        <td style=\"padding-left: 1em; padding-right: 1em; text-align: center; vertical-align: top\">0.44285714285714284</td>\n",
              "    </tr>\n",
              "    <tr>\n",
              "        <td style=\"padding-left: 1em; padding-right: 1em; text-align: center; vertical-align: top\">{&#x27;chalk&#x27;: 1.0, &#x27;eat&#x27;:<br>1.0, &#x27;wait&#x27;: 1.0} ...</td>\n",
              "        <td style=\"padding-left: 1em; padding-right: 1em; text-align: center; vertical-align: top\">{&#x27;eat chalk&#x27;: 1, &#x27;he<br>eat&#x27;: 1, &#x27;does he&#x27;: 1, ...</td>\n",
              "        <td style=\"padding-left: 1em; padding-right: 1em; text-align: center; vertical-align: top\">[-3.71425711e-02<br>2.29819149e-01 ...</td>\n",
              "        <td style=\"padding-left: 1em; padding-right: 1em; text-align: center; vertical-align: top\">0.0</td>\n",
              "        <td style=\"padding-left: 1em; padding-right: 1em; text-align: center; vertical-align: top\">0.0</td>\n",
              "    </tr>\n",
              "    <tr>\n",
              "        <td style=\"padding-left: 1em; padding-right: 1em; text-align: center; vertical-align: top\">{&#x27;carl&#x27;: 1.0, &#x27;don&#x27;: 1.0}</td>\n",
              "        <td style=\"padding-left: 1em; padding-right: 1em; text-align: center; vertical-align: top\">{&#x27;with carl&#x27;: 1, &#x27;went<br>through&#x27;: 1, &#x27;through ...</td>\n",
              "        <td style=\"padding-left: 1em; padding-right: 1em; text-align: center; vertical-align: top\">[ 4.21000049e-02<br>2.36502886e-01 ...</td>\n",
              "        <td style=\"padding-left: 1em; padding-right: 1em; text-align: center; vertical-align: top\">1.0</td>\n",
              "        <td style=\"padding-left: 1em; padding-right: 1em; text-align: center; vertical-align: top\">0.0</td>\n",
              "    </tr>\n",
              "    <tr>\n",
              "        <td style=\"padding-left: 1em; padding-right: 1em; text-align: center; vertical-align: top\">{&#x27;dinner&#x27;: 1.0, &#x27;relax&#x27;:<br>1.0, &#x27;sex&#x27;: 1.0, ...</td>\n",
              "        <td style=\"padding-left: 1em; padding-right: 1em; text-align: center; vertical-align: top\">{&#x27;having sex&#x27;: 1, &#x27;not<br>having&#x27;: 1, &#x27;to dinner&#x27;: ...</td>\n",
              "        <td style=\"padding-left: 1em; padding-right: 1em; text-align: center; vertical-align: top\">[-1.00040007e-02<br>1.46241844e-01 ...</td>\n",
              "        <td style=\"padding-left: 1em; padding-right: 1em; text-align: center; vertical-align: top\">0.0</td>\n",
              "        <td style=\"padding-left: 1em; padding-right: 1em; text-align: center; vertical-align: top\">0.5</td>\n",
              "    </tr>\n",
              "    <tr>\n",
              "        <td style=\"padding-left: 1em; padding-right: 1em; text-align: center; vertical-align: top\">{&#x27;date&#x27;: 1.0, &#x27;sounds&#x27;:<br>1.0} ...</td>\n",
              "        <td style=\"padding-left: 1em; padding-right: 1em; text-align: center; vertical-align: top\">{&#x27;to me&#x27;: 1, &#x27;date to&#x27;:<br>1, &#x27;a date&#x27;: 1, &#x27;like ...</td>\n",
              "        <td style=\"padding-left: 1em; padding-right: 1em; text-align: center; vertical-align: top\">[ 4.51041423e-02<br>1.73930570e-01 ...</td>\n",
              "        <td style=\"padding-left: 1em; padding-right: 1em; text-align: center; vertical-align: top\">2.0</td>\n",
              "        <td style=\"padding-left: 1em; padding-right: 1em; text-align: center; vertical-align: top\">0.0</td>\n",
              "    </tr>\n",
              "    <tr>\n",
              "        <td style=\"padding-left: 1em; padding-right: 1em; text-align: center; vertical-align: top\">{&#x27;totally&#x27;: 1.0,<br>&#x27;alright&#x27;: 1.0, &#x27;high&#x27;: ...</td>\n",
              "        <td style=\"padding-left: 1em; padding-right: 1em; text-align: center; vertical-align: top\">{&#x27;am totally&#x27;: 1, &#x27;i am&#x27;:<br>1, &#x27;realize i&#x27;: 1, &#x27;i ...</td>\n",
              "        <td style=\"padding-left: 1em; padding-right: 1em; text-align: center; vertical-align: top\">[ 1.14625013e-02<br>2.69849598e-01 ...</td>\n",
              "        <td style=\"padding-left: 1em; padding-right: 1em; text-align: center; vertical-align: top\">0.0</td>\n",
              "        <td style=\"padding-left: 1em; padding-right: 1em; text-align: center; vertical-align: top\">0.04</td>\n",
              "    </tr>\n",
              "    <tr>\n",
              "        <td style=\"padding-left: 1em; padding-right: 1em; text-align: center; vertical-align: top\">{&#x27;realize&#x27;: 1.0, &#x27;phone&#x27;:<br>1.0} ...</td>\n",
              "        <td style=\"padding-left: 1em; padding-right: 1em; text-align: center; vertical-align: top\">{&#x27;phone there&#x27;: 1, &#x27;i<br>look&#x27;: 1, &#x27;look down&#x27; ...</td>\n",
              "        <td style=\"padding-left: 1em; padding-right: 1em; text-align: center; vertical-align: top\">[ 7.12726032e-03<br>2.44098589e-01 ...</td>\n",
              "        <td style=\"padding-left: 1em; padding-right: 1em; text-align: center; vertical-align: top\">0.0</td>\n",
              "        <td style=\"padding-left: 1em; padding-right: 1em; text-align: center; vertical-align: top\">-0.15555555555555559</td>\n",
              "    </tr>\n",
              "    <tr>\n",
              "        <td style=\"padding-left: 1em; padding-right: 1em; text-align: center; vertical-align: top\">{}</td>\n",
              "        <td style=\"padding-left: 1em; padding-right: 1em; text-align: center; vertical-align: top\">{&#x27;instead of&#x27;: 1}</td>\n",
              "        <td style=\"padding-left: 1em; padding-right: 1em; text-align: center; vertical-align: top\">[-1.22297760e-02<br>1.30369991e-01 ...</td>\n",
              "        <td style=\"padding-left: 1em; padding-right: 1em; text-align: center; vertical-align: top\">0.0</td>\n",
              "        <td style=\"padding-left: 1em; padding-right: 1em; text-align: center; vertical-align: top\">0.0</td>\n",
              "    </tr>\n",
              "</table>\n",
              "[49506 rows x 10 columns]<br/>Note: Only the head of the SFrame is printed.<br/>You can use print_rows(num_rows=m, num_columns=n) to print more rows and columns.\n",
              "</div>"
            ],
            "text/plain": [
              "Columns:\n",
              "\tauthor\tstr\n",
              "\tquote\tstr\n",
              "\tChars Number\tint\n",
              "\tWords Number\tint\n",
              "\tqoute\tstr\n",
              "\tbow\tdict\n",
              "\tword_2gram\tdict\n",
              "\tvector\tndarray\n",
              "\tafinn_score\tfloat\n",
              "\ttextblob_score\tfloat\n",
              "\n",
              "Rows: 49506\n",
              "\n",
              "Data:\n",
              "+----------+-------------------------------+--------------+--------------+\n",
              "|  author  |             quote             | Chars Number | Words Number |\n",
              "+----------+-------------------------------+--------------+--------------+\n",
              "|  monica  | There's nothing to tell! H... |      56      |      15      |\n",
              "|   joey   | C'mon, you're going out wi... |      80      |      20      |\n",
              "| chandler | All right Joey, be nice. S... |      72      |      20      |\n",
              "|  phoebe  |    Wait, does he eat chalk?   |      24      |      7       |\n",
              "|  phoebe  | Just, 'cause, I don't want... |      79      |      20      |\n",
              "|  monica  | Okay, everybody relax. Thi... |     109      |      26      |\n",
              "| chandler |   Sounds like a date to me.   |      25      |      7       |\n",
              "| chandler | Alright, so I'm back in hi... |     115      |      28      |\n",
              "| chandler | Then I look down, and I re... |      57      |      15      |\n",
              "|   joey   |         Instead of...?        |      14      |      4       |\n",
              "+----------+-------------------------------+--------------+--------------+\n",
              "+-------------------------------+--------------------------------+\n",
              "|             qoute             |              bow               |\n",
              "+-------------------------------+--------------------------------+\n",
              "| there's nothing to tell! h... |   {'work': 1.0, 'guy': 1.0}    |\n",
              "| c'mon, you're going out wi... | {'wrong': 1.0, 'gotta': 1....  |\n",
              "| all right joey, be nice. s... | {'hairpiece': 1.0, 'hump':...  |\n",
              "|    wait, does he eat chalk?   | {'chalk': 1.0, 'eat': 1.0,...  |\n",
              "| just, 'cause, i don't want... |   {'carl': 1.0, 'don': 1.0}    |\n",
              "| okay, everybody relax. thi... | {'dinner': 1.0, 'relax': 1...  |\n",
              "|   sounds like a date to me.   |  {'date': 1.0, 'sounds': 1.0}  |\n",
              "| alright, so i'm back in hi... | {'totally': 1.0, 'alright'...  |\n",
              "| then i look down, and i re... | {'realize': 1.0, 'phone': 1.0} |\n",
              "|         instead of...?        |               {}               |\n",
              "+-------------------------------+--------------------------------+\n",
              "+-------------------------------+-------------------------------+-------------+\n",
              "|           word_2gram          |             vector            | afinn_score |\n",
              "+-------------------------------+-------------------------------+-------------+\n",
              "| {'work with': 1, 'i work':... | [-6.18888177e-02  2.657972... |     0.0     |\n",
              "| {'something wrong': 1, 'be... | [-1.22622110e-01  1.815474... |     -2.0    |\n",
              "| {'hump and': 1, 'hump a': ... | [-9.82086826e-03  9.881126... |     3.0     |\n",
              "| {'eat chalk': 1, 'he eat':... | [-3.71425711e-02  2.298191... |     0.0     |\n",
              "| {'with carl': 1, 'went thr... | [ 4.21000049e-02  2.365028... |     1.0     |\n",
              "| {'having sex': 1, 'not hav... | [-1.00040007e-02  1.462418... |     0.0     |\n",
              "| {'to me': 1, 'date to': 1,... | [ 4.51041423e-02  1.739305... |     2.0     |\n",
              "| {'am totally': 1, 'i am': ... | [ 1.14625013e-02  2.698495... |     0.0     |\n",
              "| {'phone there': 1, 'i look... | [ 7.12726032e-03  2.440985... |     0.0     |\n",
              "|       {'instead of': 1}       | [-1.22297760e-02  1.303699... |     0.0     |\n",
              "+-------------------------------+-------------------------------+-------------+\n",
              "+----------------------+\n",
              "|    textblob_score    |\n",
              "+----------------------+\n",
              "|         0.0          |\n",
              "|        -0.625        |\n",
              "| 0.44285714285714284  |\n",
              "|         0.0          |\n",
              "|         0.0          |\n",
              "|         0.5          |\n",
              "|         0.0          |\n",
              "|         0.04         |\n",
              "| -0.15555555555555559 |\n",
              "|         0.0          |\n",
              "+----------------------+\n",
              "[49506 rows x 10 columns]\n",
              "Note: Only the head of the SFrame is printed.\n",
              "You can use print_rows(num_rows=m, num_columns=n) to print more rows and columns."
            ]
          },
          "metadata": {},
          "execution_count": 36
        }
      ]
    },
    {
      "cell_type": "code",
      "metadata": {
        "id": "Q11CU5X-WIUN"
      },
      "source": [
        "sf.materialize()"
      ],
      "execution_count": 37,
      "outputs": []
    },
    {
      "cell_type": "code",
      "metadata": {
        "id": "5lKUv4MCU2hH"
      },
      "source": [
        "def get_sentiment(row):\n",
        "  # calc the avg of both of the measures\n",
        "  row_sentiment = (row['textblob_score'] + row['afinn_score']) / 2\n",
        "  # if the avg of both of the measures greater than 0 - then the sentiment is positive\n",
        "  if row_sentiment > 0:\n",
        "    return 'Positive'\n",
        "  # if the avg of both of the measures less than 0 - then the sentiment is negative\n",
        "  elif row_sentiment < 0:\n",
        "    return 'Negative'\n",
        "  else:\n",
        "    return 'Neutral'\n",
        "\n",
        "sf['sentiment'] = sf.apply(lambda row: get_sentiment(row))"
      ],
      "execution_count": 38,
      "outputs": []
    },
    {
      "cell_type": "code",
      "metadata": {
        "colab": {
          "base_uri": "https://localhost:8080/"
        },
        "id": "dMXEbQqWXKRh",
        "outputId": "615d0303-e41f-4785-b027-b4dd117c7e02"
      },
      "source": [
        "import turicreate.aggregate as agg\n",
        "import operator\n",
        "\n",
        "# Count number of sentiments for each author\n",
        "g = sf.groupby(['author', 'sentiment'], {'Count': agg.COUNT()})\n",
        "\n",
        "# calculate the frienly measure according to the following formula:\n",
        "# (number_of_positive - number_of_negative) / (number_of_positive + number_of_negative)\n",
        "friendly_measures = {}\n",
        "for author in friends_authors.keys():\n",
        "  positive = g[(g['author'] == author) & (g['sentiment'] == 'Positive')]['Count'][0]\n",
        "  negative = g[(g['author'] == author) & (g['sentiment'] == 'Negative')]['Count'][0]\n",
        "  total_quotes = positive + negative\n",
        "  friendly_measure = (positive - negative) / total_quotes\n",
        "  friendly_measures[author] = friendly_measure\n",
        "\n",
        "rank = sorted(friendly_measures.items(), key=operator.itemgetter(1), reverse=True)\n",
        "\n",
        "rank"
      ],
      "execution_count": 39,
      "outputs": [
        {
          "output_type": "execute_result",
          "data": {
            "text/plain": [
              "[('rachel', 0.36176568204447396),\n",
              " ('phoebe', 0.36072144288577157),\n",
              " ('joey', 0.335946248600224),\n",
              " ('chandler', 0.3206092861075427),\n",
              " ('ross', 0.3156022361511096),\n",
              " ('monica', 0.3092155369383092)]"
            ]
          },
          "metadata": {},
          "execution_count": 39
        }
      ]
    },
    {
      "cell_type": "markdown",
      "metadata": {
        "id": "iVBsF1Z3TzgQ"
      },
      "source": [
        "**A classifier that can be given several text lines (quotes) from a specific episode and will predict the episode's season number**"
      ]
    },
    {
      "cell_type": "markdown",
      "metadata": {
        "id": "BVgz5mZfLv9l"
      },
      "source": [
        "Explanation: \n",
        "I took all the text for every episode, and split each episode text into train (80%) and test(20%) randomly. Then, I used 3 grams of quotes - get 3 quotes and join them togheter into one sentence (separate proces for train and test). Added bow and 2 word ngrams and trained a classifier which classify the season of the three quotes.   "
      ]
    },
    {
      "cell_type": "code",
      "metadata": {
        "colab": {
          "base_uri": "https://localhost:8080/",
          "height": 423
        },
        "id": "BzjlCU2zdMdB",
        "outputId": "16578972-be96-44dc-db8f-85586e84efa2"
      },
      "source": [
        "df"
      ],
      "execution_count": 42,
      "outputs": [
        {
          "output_type": "execute_result",
          "data": {
            "text/html": [
              "<div>\n",
              "<style scoped>\n",
              "    .dataframe tbody tr th:only-of-type {\n",
              "        vertical-align: middle;\n",
              "    }\n",
              "\n",
              "    .dataframe tbody tr th {\n",
              "        vertical-align: top;\n",
              "    }\n",
              "\n",
              "    .dataframe thead th {\n",
              "        text-align: right;\n",
              "    }\n",
              "</style>\n",
              "<table border=\"1\" class=\"dataframe\">\n",
              "  <thead>\n",
              "    <tr style=\"text-align: right;\">\n",
              "      <th></th>\n",
              "      <th>author</th>\n",
              "      <th>episode_number</th>\n",
              "      <th>episode_title</th>\n",
              "      <th>quote</th>\n",
              "      <th>quote_order</th>\n",
              "      <th>season</th>\n",
              "    </tr>\n",
              "  </thead>\n",
              "  <tbody>\n",
              "    <tr>\n",
              "      <th>0</th>\n",
              "      <td>Monica</td>\n",
              "      <td>1.0</td>\n",
              "      <td>Monica Gets A Roommate</td>\n",
              "      <td>There's nothing to tell! He's just some guy I ...</td>\n",
              "      <td>0.0</td>\n",
              "      <td>1.0</td>\n",
              "    </tr>\n",
              "    <tr>\n",
              "      <th>1</th>\n",
              "      <td>Joey</td>\n",
              "      <td>1.0</td>\n",
              "      <td>Monica Gets A Roommate</td>\n",
              "      <td>C'mon, you're going out with the guy! There's ...</td>\n",
              "      <td>1.0</td>\n",
              "      <td>1.0</td>\n",
              "    </tr>\n",
              "    <tr>\n",
              "      <th>2</th>\n",
              "      <td>Chandler</td>\n",
              "      <td>1.0</td>\n",
              "      <td>Monica Gets A Roommate</td>\n",
              "      <td>All right Joey, be nice. So does he have a hum...</td>\n",
              "      <td>2.0</td>\n",
              "      <td>1.0</td>\n",
              "    </tr>\n",
              "    <tr>\n",
              "      <th>3</th>\n",
              "      <td>Phoebe</td>\n",
              "      <td>1.0</td>\n",
              "      <td>Monica Gets A Roommate</td>\n",
              "      <td>Wait, does he eat chalk?</td>\n",
              "      <td>3.0</td>\n",
              "      <td>1.0</td>\n",
              "    </tr>\n",
              "    <tr>\n",
              "      <th>4</th>\n",
              "      <td>Phoebe</td>\n",
              "      <td>1.0</td>\n",
              "      <td>Monica Gets A Roommate</td>\n",
              "      <td>Just, 'cause, I don't want her to go through w...</td>\n",
              "      <td>4.0</td>\n",
              "      <td>1.0</td>\n",
              "    </tr>\n",
              "    <tr>\n",
              "      <th>...</th>\n",
              "      <td>...</td>\n",
              "      <td>...</td>\n",
              "      <td>...</td>\n",
              "      <td>...</td>\n",
              "      <td>...</td>\n",
              "      <td>...</td>\n",
              "    </tr>\n",
              "    <tr>\n",
              "      <th>60286</th>\n",
              "      <td>Chandler</td>\n",
              "      <td>17.0</td>\n",
              "      <td>The Last One, Part I &amp; II</td>\n",
              "      <td>Oh, it's gonna be okay.</td>\n",
              "      <td>581.0</td>\n",
              "      <td>10.0</td>\n",
              "    </tr>\n",
              "    <tr>\n",
              "      <th>60287</th>\n",
              "      <td>Rachel</td>\n",
              "      <td>17.0</td>\n",
              "      <td>The Last One, Part I &amp; II</td>\n",
              "      <td>(crying) Do you guys have to go to the new hou...</td>\n",
              "      <td>582.0</td>\n",
              "      <td>10.0</td>\n",
              "    </tr>\n",
              "    <tr>\n",
              "      <th>60288</th>\n",
              "      <td>Monica</td>\n",
              "      <td>17.0</td>\n",
              "      <td>The Last One, Part I &amp; II</td>\n",
              "      <td>We got some time.</td>\n",
              "      <td>583.0</td>\n",
              "      <td>10.0</td>\n",
              "    </tr>\n",
              "    <tr>\n",
              "      <th>60289</th>\n",
              "      <td>Rachel</td>\n",
              "      <td>17.0</td>\n",
              "      <td>The Last One, Part I &amp; II</td>\n",
              "      <td>Okay, should we get some coffee?</td>\n",
              "      <td>584.0</td>\n",
              "      <td>10.0</td>\n",
              "    </tr>\n",
              "    <tr>\n",
              "      <th>60290</th>\n",
              "      <td>Chandler</td>\n",
              "      <td>17.0</td>\n",
              "      <td>The Last One, Part I &amp; II</td>\n",
              "      <td>Sure. Where?</td>\n",
              "      <td>585.0</td>\n",
              "      <td>10.0</td>\n",
              "    </tr>\n",
              "  </tbody>\n",
              "</table>\n",
              "<p>60291 rows × 6 columns</p>\n",
              "</div>"
            ],
            "text/plain": [
              "         author  episode_number  ... quote_order season\n",
              "0        Monica             1.0  ...         0.0    1.0\n",
              "1          Joey             1.0  ...         1.0    1.0\n",
              "2      Chandler             1.0  ...         2.0    1.0\n",
              "3        Phoebe             1.0  ...         3.0    1.0\n",
              "4        Phoebe             1.0  ...         4.0    1.0\n",
              "...         ...             ...  ...         ...    ...\n",
              "60286  Chandler            17.0  ...       581.0   10.0\n",
              "60287    Rachel            17.0  ...       582.0   10.0\n",
              "60288    Monica            17.0  ...       583.0   10.0\n",
              "60289    Rachel            17.0  ...       584.0   10.0\n",
              "60290  Chandler            17.0  ...       585.0   10.0\n",
              "\n",
              "[60291 rows x 6 columns]"
            ]
          },
          "metadata": {},
          "execution_count": 42
        }
      ]
    },
    {
      "cell_type": "code",
      "metadata": {
        "colab": {
          "base_uri": "https://localhost:8080/",
          "height": 458
        },
        "id": "IVtjuRKRW_B3",
        "outputId": "bf81112c-758f-462b-d222-abcf9ef25380"
      },
      "source": [
        "# get only these three columns and groupby the texts according to the episode number and the season\n",
        "sf_episodes = tc.SFrame(df[['episode_number', 'quote', 'season']])\n",
        "g_episodes = sf_episodes.groupby(['episode_number', 'season'], {'full_text': agg.CONCAT(\"quote\")})\n",
        "g_episodes"
      ],
      "execution_count": 41,
      "outputs": [
        {
          "output_type": "execute_result",
          "data": {
            "text/html": [
              "<div style=\"max-height:1000px;max-width:1500px;overflow:auto;\"><table frame=\"box\" rules=\"cols\">\n",
              "    <tr>\n",
              "        <th style=\"padding-left: 1em; padding-right: 1em; text-align: center\">episode_number</th>\n",
              "        <th style=\"padding-left: 1em; padding-right: 1em; text-align: center\">season</th>\n",
              "        <th style=\"padding-left: 1em; padding-right: 1em; text-align: center\">full_text</th>\n",
              "    </tr>\n",
              "    <tr>\n",
              "        <td style=\"padding-left: 1em; padding-right: 1em; text-align: center; vertical-align: top\">18.0</td>\n",
              "        <td style=\"padding-left: 1em; padding-right: 1em; text-align: center; vertical-align: top\">9.0</td>\n",
              "        <td style=\"padding-left: 1em; padding-right: 1em; text-align: center; vertical-align: top\">[We are on a roll,<br>people!!, (calling ...</td>\n",
              "    </tr>\n",
              "    <tr>\n",
              "        <td style=\"padding-left: 1em; padding-right: 1em; text-align: center; vertical-align: top\">3.0</td>\n",
              "        <td style=\"padding-left: 1em; padding-right: 1em; text-align: center; vertical-align: top\">3.0</td>\n",
              "        <td style=\"padding-left: 1em; padding-right: 1em; text-align: center; vertical-align: top\">[Chandler and Joey&#x27;s,<br>Chandler is sitting ...</td>\n",
              "    </tr>\n",
              "    <tr>\n",
              "        <td style=\"padding-left: 1em; padding-right: 1em; text-align: center; vertical-align: top\">19.0</td>\n",
              "        <td style=\"padding-left: 1em; padding-right: 1em; text-align: center; vertical-align: top\">1.0</td>\n",
              "        <td style=\"padding-left: 1em; padding-right: 1em; text-align: center; vertical-align: top\">[What is it?, Country<br>club newsletter. My ...</td>\n",
              "    </tr>\n",
              "    <tr>\n",
              "        <td style=\"padding-left: 1em; padding-right: 1em; text-align: center; vertical-align: top\">12.0</td>\n",
              "        <td style=\"padding-left: 1em; padding-right: 1em; text-align: center; vertical-align: top\">6.0</td>\n",
              "        <td style=\"padding-left: 1em; padding-right: 1em; text-align: center; vertical-align: top\">[Andrew Reich &amp; Ted Cohen<br>Story by: Shana Goldb ...</td>\n",
              "    </tr>\n",
              "    <tr>\n",
              "        <td style=\"padding-left: 1em; padding-right: 1em; text-align: center; vertical-align: top\">10.0</td>\n",
              "        <td style=\"padding-left: 1em; padding-right: 1em; text-align: center; vertical-align: top\">10.0</td>\n",
              "        <td style=\"padding-left: 1em; padding-right: 1em; text-align: center; vertical-align: top\">[Those are all really<br>old!, Ok, then maybe ...</td>\n",
              "    </tr>\n",
              "    <tr>\n",
              "        <td style=\"padding-left: 1em; padding-right: 1em; text-align: center; vertical-align: top\">12.0</td>\n",
              "        <td style=\"padding-left: 1em; padding-right: 1em; text-align: center; vertical-align: top\">10.0</td>\n",
              "        <td style=\"padding-left: 1em; padding-right: 1em; text-align: center; vertical-align: top\">[Oh, hey Joey., Uh, hey.,<br>Listen, I need to ask ...</td>\n",
              "    </tr>\n",
              "    <tr>\n",
              "        <td style=\"padding-left: 1em; padding-right: 1em; text-align: center; vertical-align: top\">1.0</td>\n",
              "        <td style=\"padding-left: 1em; padding-right: 1em; text-align: center; vertical-align: top\">3.0</td>\n",
              "        <td style=\"padding-left: 1em; padding-right: 1em; text-align: center; vertical-align: top\">[I&#x27;m tellin&#x27; ya that girl<br>totally winked at me., ...</td>\n",
              "    </tr>\n",
              "    <tr>\n",
              "        <td style=\"padding-left: 1em; padding-right: 1em; text-align: center; vertical-align: top\">10.0</td>\n",
              "        <td style=\"padding-left: 1em; padding-right: 1em; text-align: center; vertical-align: top\">6.0</td>\n",
              "        <td style=\"padding-left: 1em; padding-right: 1em; text-align: center; vertical-align: top\">[Let me ask you, why is<br>everybody using these ...</td>\n",
              "    </tr>\n",
              "    <tr>\n",
              "        <td style=\"padding-left: 1em; padding-right: 1em; text-align: center; vertical-align: top\">15.0</td>\n",
              "        <td style=\"padding-left: 1em; padding-right: 1em; text-align: center; vertical-align: top\">1.0</td>\n",
              "        <td style=\"padding-left: 1em; padding-right: 1em; text-align: center; vertical-align: top\">[Ooh! Brian&#x27;s Song!, The<br>meeting with the guy  ...</td>\n",
              "    </tr>\n",
              "    <tr>\n",
              "        <td style=\"padding-left: 1em; padding-right: 1em; text-align: center; vertical-align: top\">11.0</td>\n",
              "        <td style=\"padding-left: 1em; padding-right: 1em; text-align: center; vertical-align: top\">2.0</td>\n",
              "        <td style=\"padding-left: 1em; padding-right: 1em; text-align: center; vertical-align: top\">[Ok. Here&#x27;s his diaper<br>bag, and his uh, Mr. ...</td>\n",
              "    </tr>\n",
              "</table>\n",
              "[226 rows x 3 columns]<br/>Note: Only the head of the SFrame is printed.<br/>You can use print_rows(num_rows=m, num_columns=n) to print more rows and columns.\n",
              "</div>"
            ],
            "text/plain": [
              "Columns:\n",
              "\tepisode_number\tfloat\n",
              "\tseason\tfloat\n",
              "\tfull_text\tlist\n",
              "\n",
              "Rows: 226\n",
              "\n",
              "Data:\n",
              "+----------------+--------+-------------------------------+\n",
              "| episode_number | season |           full_text           |\n",
              "+----------------+--------+-------------------------------+\n",
              "|      18.0      |  9.0   | [We are on a roll, people!... |\n",
              "|      3.0       |  3.0   | [Chandler and Joey's, Chan... |\n",
              "|      19.0      |  1.0   | [What is it?, Country club... |\n",
              "|      12.0      |  6.0   | [Andrew Reich & Ted Cohen ... |\n",
              "|      10.0      |  10.0  | [Those are all really old!... |\n",
              "|      12.0      |  10.0  | [Oh, hey Joey., Uh, hey., ... |\n",
              "|      1.0       |  3.0   | [I'm tellin' ya that girl ... |\n",
              "|      10.0      |  6.0   | [Let me ask you, why is ev... |\n",
              "|      15.0      |  1.0   | [Ooh! Brian's Song!, The m... |\n",
              "|      11.0      |  2.0   | [Ok. Here's his diaper bag... |\n",
              "+----------------+--------+-------------------------------+\n",
              "[226 rows x 3 columns]\n",
              "Note: Only the head of the SFrame is printed.\n",
              "You can use print_rows(num_rows=m, num_columns=n) to print more rows and columns."
            ]
          },
          "metadata": {},
          "execution_count": 41
        }
      ]
    },
    {
      "cell_type": "code",
      "metadata": {
        "id": "so-RHP4h7iPb"
      },
      "source": [
        "import random\n",
        "import math\n",
        "\n",
        "\n",
        "def get_train_test(data, train_percent):\n",
        "  \"\"\"for each episode get randomly *train_percent* texts for the train set and 1 - *train_percent* for the test set\n",
        "  return train df and test df\n",
        "  \"\"\"\n",
        "  \n",
        "  train_dict  = {'episode_number':[], 'season':[], 'text':[]}\n",
        "  test_dict   = {'episode_number':[], 'season':[], 'text':[]}\n",
        "\n",
        "  for row in data:\n",
        "    all_indices   = range(len(row['full_text']))\n",
        "    train_indices = random.sample(all_indices, math.ceil(len(all_indices) * train_percent))\n",
        "    test_indices  = set(all_indices) - set(train_indices) \n",
        "\n",
        "    train_list  = [row['full_text'][index] for index in train_indices]\n",
        "    test_list   = [row['full_text'][index] for index in test_indices]\n",
        "    \n",
        "    train_dict['episode_number'].append(row['episode_number'])\n",
        "    train_dict['season'].append(row['season'])\n",
        "    train_dict['text'].append(train_list)\n",
        "    \n",
        "    test_dict['episode_number'].append(row['episode_number'])\n",
        "    test_dict['season'].append(row['season'])\n",
        "    test_dict['text'].append(test_list)\n",
        "\n",
        "  train_df  = pd.DataFrame(train_dict)\n",
        "  test_df   = pd.DataFrame(test_dict)\n",
        "\n",
        "  return train_df, test_df\n",
        "\n",
        "train, test = get_train_test(g_episodes, 0.8)"
      ],
      "execution_count": 56,
      "outputs": []
    },
    {
      "cell_type": "code",
      "metadata": {
        "colab": {
          "base_uri": "https://localhost:8080/",
          "height": 458
        },
        "id": "ixRzFKuqEL6Z",
        "outputId": "e97537a1-c808-4dd4-a232-3f23df5b3238"
      },
      "source": [
        "def get_3_grams_quotes_sf(data):\n",
        "  \"\"\"for each episode, split text into 3 grams of quotes.\n",
        "  \n",
        "      data (df): train or test df\n",
        "  \"\"\"\n",
        "  all_three_grams = [] \n",
        "  seasons   = []\n",
        "  episodes  = []\n",
        "\n",
        "  for row in data.iterrows():\n",
        "    three_grams = [\" \".join(row[1]['text'][index:index+3]) for index in range(len(row[1]['text'])-2)]\n",
        "    season  = [row[1]['season']] * len(three_grams)\n",
        "    episode = [row[1]['episode_number']] * len(three_grams)\n",
        "\n",
        "    all_three_grams.extend(three_grams)\n",
        "    seasons.extend(season)\n",
        "    episodes.extend(episode)\n",
        "\n",
        "  sf = tc.SFrame(pd.DataFrame({'episode':episodes, 'season':seasons, 'text': all_three_grams}))\n",
        "  return sf\n",
        "\n",
        "train_3_quotes  = get_3_grams_quotes_sf(train)\n",
        "test_3_quotes   = get_3_grams_quotes_sf(test)\n",
        "train_3_quotes"
      ],
      "execution_count": 87,
      "outputs": [
        {
          "output_type": "execute_result",
          "data": {
            "text/html": [
              "<div style=\"max-height:1000px;max-width:1500px;overflow:auto;\"><table frame=\"box\" rules=\"cols\">\n",
              "    <tr>\n",
              "        <th style=\"padding-left: 1em; padding-right: 1em; text-align: center\">episode</th>\n",
              "        <th style=\"padding-left: 1em; padding-right: 1em; text-align: center\">season</th>\n",
              "        <th style=\"padding-left: 1em; padding-right: 1em; text-align: center\">text</th>\n",
              "    </tr>\n",
              "    <tr>\n",
              "        <td style=\"padding-left: 1em; padding-right: 1em; text-align: center; vertical-align: top\">18.0</td>\n",
              "        <td style=\"padding-left: 1em; padding-right: 1em; text-align: center; vertical-align: top\">9.0</td>\n",
              "        <td style=\"padding-left: 1em; padding-right: 1em; text-align: center; vertical-align: top\">No thanks! You know,<br>Ross, just keep making ...</td>\n",
              "    </tr>\n",
              "    <tr>\n",
              "        <td style=\"padding-left: 1em; padding-right: 1em; text-align: center; vertical-align: top\">18.0</td>\n",
              "        <td style=\"padding-left: 1em; padding-right: 1em; text-align: center; vertical-align: top\">9.0</td>\n",
              "        <td style=\"padding-left: 1em; padding-right: 1em; text-align: center; vertical-align: top\">You know, Ross, just keep<br>making your jokes. How ...</td>\n",
              "    </tr>\n",
              "    <tr>\n",
              "        <td style=\"padding-left: 1em; padding-right: 1em; text-align: center; vertical-align: top\">18.0</td>\n",
              "        <td style=\"padding-left: 1em; padding-right: 1em; text-align: center; vertical-align: top\">9.0</td>\n",
              "        <td style=\"padding-left: 1em; padding-right: 1em; text-align: center; vertical-align: top\">Oh no, I&#x27;m good, I don&#x27;t<br>wanna get that turkey ...</td>\n",
              "    </tr>\n",
              "    <tr>\n",
              "        <td style=\"padding-left: 1em; padding-right: 1em; text-align: center; vertical-align: top\">18.0</td>\n",
              "        <td style=\"padding-left: 1em; padding-right: 1em; text-align: center; vertical-align: top\">9.0</td>\n",
              "        <td style=\"padding-left: 1em; padding-right: 1em; text-align: center; vertical-align: top\">I&#x27;m sorry, idea time is<br>over. Why would I eat my ...</td>\n",
              "    </tr>\n",
              "    <tr>\n",
              "        <td style=\"padding-left: 1em; padding-right: 1em; text-align: center; vertical-align: top\">18.0</td>\n",
              "        <td style=\"padding-left: 1em; padding-right: 1em; text-align: center; vertical-align: top\">9.0</td>\n",
              "        <td style=\"padding-left: 1em; padding-right: 1em; text-align: center; vertical-align: top\">Why would I eat my own<br>arm? No, what&#x27;s more ...</td>\n",
              "    </tr>\n",
              "    <tr>\n",
              "        <td style=\"padding-left: 1em; padding-right: 1em; text-align: center; vertical-align: top\">18.0</td>\n",
              "        <td style=\"padding-left: 1em; padding-right: 1em; text-align: center; vertical-align: top\">9.0</td>\n",
              "        <td style=\"padding-left: 1em; padding-right: 1em; text-align: center; vertical-align: top\">No, what&#x27;s more<br>important, your friends ...</td>\n",
              "    </tr>\n",
              "    <tr>\n",
              "        <td style=\"padding-left: 1em; padding-right: 1em; text-align: center; vertical-align: top\">18.0</td>\n",
              "        <td style=\"padding-left: 1em; padding-right: 1em; text-align: center; vertical-align: top\">9.0</td>\n",
              "        <td style=\"padding-left: 1em; padding-right: 1em; text-align: center; vertical-align: top\">Hey, if anybody gets<br>extra tickets, it should ...</td>\n",
              "    </tr>\n",
              "    <tr>\n",
              "        <td style=\"padding-left: 1em; padding-right: 1em; text-align: center; vertical-align: top\">18.0</td>\n",
              "        <td style=\"padding-left: 1em; padding-right: 1em; text-align: center; vertical-align: top\">9.0</td>\n",
              "        <td style=\"padding-left: 1em; padding-right: 1em; text-align: center; vertical-align: top\">Ok, good! (pause) You<br>guys were so scared! ...</td>\n",
              "    </tr>\n",
              "    <tr>\n",
              "        <td style=\"padding-left: 1em; padding-right: 1em; text-align: center; vertical-align: top\">18.0</td>\n",
              "        <td style=\"padding-left: 1em; padding-right: 1em; text-align: center; vertical-align: top\">9.0</td>\n",
              "        <td style=\"padding-left: 1em; padding-right: 1em; text-align: center; vertical-align: top\">(looking around at the<br>others)I&#x27;ll ask. (To ...</td>\n",
              "    </tr>\n",
              "    <tr>\n",
              "        <td style=\"padding-left: 1em; padding-right: 1em; text-align: center; vertical-align: top\">18.0</td>\n",
              "        <td style=\"padding-left: 1em; padding-right: 1em; text-align: center; vertical-align: top\">9.0</td>\n",
              "        <td style=\"padding-left: 1em; padding-right: 1em; text-align: center; vertical-align: top\">(hysterical)Don&#x27;t touch<br>the phone! I&#x27;ll get it, ...</td>\n",
              "    </tr>\n",
              "</table>\n",
              "[47877 rows x 3 columns]<br/>Note: Only the head of the SFrame is printed.<br/>You can use print_rows(num_rows=m, num_columns=n) to print more rows and columns.\n",
              "</div>"
            ],
            "text/plain": [
              "Columns:\n",
              "\tepisode\tfloat\n",
              "\tseason\tfloat\n",
              "\ttext\tstr\n",
              "\n",
              "Rows: 47877\n",
              "\n",
              "Data:\n",
              "+---------+--------+-------------------------------+\n",
              "| episode | season |              text             |\n",
              "+---------+--------+-------------------------------+\n",
              "|   18.0  |  9.0   | No thanks! You know, Ross,... |\n",
              "|   18.0  |  9.0   | You know, Ross, just keep ... |\n",
              "|   18.0  |  9.0   | Oh no, I'm good, I don't w... |\n",
              "|   18.0  |  9.0   | I'm sorry, idea time is ov... |\n",
              "|   18.0  |  9.0   | Why would I eat my own arm... |\n",
              "|   18.0  |  9.0   | No, what's more important,... |\n",
              "|   18.0  |  9.0   | Hey, if anybody gets extra... |\n",
              "|   18.0  |  9.0   | Ok, good! (pause) You guys... |\n",
              "|   18.0  |  9.0   | (looking around at the oth... |\n",
              "|   18.0  |  9.0   | (hysterical)Don't touch th... |\n",
              "+---------+--------+-------------------------------+\n",
              "[47877 rows x 3 columns]\n",
              "Note: Only the head of the SFrame is printed.\n",
              "You can use print_rows(num_rows=m, num_columns=n) to print more rows and columns."
            ]
          },
          "metadata": {},
          "execution_count": 87
        }
      ]
    },
    {
      "cell_type": "code",
      "metadata": {
        "id": "oSapUXR5djiS"
      },
      "source": [
        "def add_features(data):\n",
        "  \"\"\"Add BOW and word grams for each 3 qoute grams\n",
        "  \"\"\"\n",
        "  data['text'] = data['text'].apply(lambda s: s.lower())\n",
        "  data['bow'] = tc.text_analytics.count_words(data['text'])\n",
        "  data['bow'] = data['bow'].dict_trim_by_keys(tc.text_analytics.stop_words(lang='en'), exclude=True)\n",
        "  data['word_2gram'] = tc.text_analytics.count_ngrams(data['text'], n=2)\n",
        "  \n",
        "  # cast into integer to predict as class\n",
        "  data['season'] = data['season'].apply(lambda x: int(x))\n",
        "  \n",
        "  return data\n",
        "\n",
        "train_data  = add_features(train_3_quotes)\n",
        "test_data   = add_features(test_3_quotes)\n",
        "\n",
        "train_data.materialize()\n",
        "test_data.materialize()"
      ],
      "execution_count": 89,
      "outputs": []
    },
    {
      "cell_type": "code",
      "metadata": {
        "colab": {
          "base_uri": "https://localhost:8080/",
          "height": 1000
        },
        "id": "60_a58MHexER",
        "outputId": "b4b2e270-616a-4255-d4fc-f5f45566d4ca"
      },
      "source": [
        "# train classifier with the prepared train data\n",
        "cls2 = tc.classifier.create(train_data, features=['bow', 'word_2gram'], target='season')"
      ],
      "execution_count": 91,
      "outputs": [
        {
          "output_type": "stream",
          "name": "stdout",
          "text": [
            "PROGRESS: Creating a validation set from 5 percent of training data. This may take a while.\n",
            "          You can set ``validation_set=None`` to disable validation tracking.\n",
            "\n",
            "PROGRESS: The following methods are available for this type of problem.\n",
            "PROGRESS: BoostedTreesClassifier, RandomForestClassifier, DecisionTreeClassifier, LogisticClassifier\n",
            "PROGRESS: The returned model will be chosen according to validation accuracy.\n"
          ]
        },
        {
          "output_type": "display_data",
          "data": {
            "text/html": [
              "<pre>Boosted trees classifier:</pre>"
            ],
            "text/plain": [
              "Boosted trees classifier:"
            ]
          },
          "metadata": {}
        },
        {
          "output_type": "display_data",
          "data": {
            "text/html": [
              "<pre>--------------------------------------------------------</pre>"
            ],
            "text/plain": [
              "--------------------------------------------------------"
            ]
          },
          "metadata": {}
        },
        {
          "output_type": "display_data",
          "data": {
            "text/html": [
              "<pre>Number of examples          : 45483</pre>"
            ],
            "text/plain": [
              "Number of examples          : 45483"
            ]
          },
          "metadata": {}
        },
        {
          "output_type": "display_data",
          "data": {
            "text/html": [
              "<pre>Number of classes           : 10</pre>"
            ],
            "text/plain": [
              "Number of classes           : 10"
            ]
          },
          "metadata": {}
        },
        {
          "output_type": "display_data",
          "data": {
            "text/html": [
              "<pre>Number of feature columns   : 2</pre>"
            ],
            "text/plain": [
              "Number of feature columns   : 2"
            ]
          },
          "metadata": {}
        },
        {
          "output_type": "display_data",
          "data": {
            "text/html": [
              "<pre>Number of unpacked features : 186043</pre>"
            ],
            "text/plain": [
              "Number of unpacked features : 186043"
            ]
          },
          "metadata": {}
        },
        {
          "output_type": "display_data",
          "data": {
            "text/html": [
              "<pre>+-----------+--------------+-------------------+---------------------+-------------------+---------------------+</pre>"
            ],
            "text/plain": [
              "+-----------+--------------+-------------------+---------------------+-------------------+---------------------+"
            ]
          },
          "metadata": {}
        },
        {
          "output_type": "display_data",
          "data": {
            "text/html": [
              "<pre>| Iteration | Elapsed Time | Training Accuracy | Validation Accuracy | Training Log Loss | Validation Log Loss |</pre>"
            ],
            "text/plain": [
              "| Iteration | Elapsed Time | Training Accuracy | Validation Accuracy | Training Log Loss | Validation Log Loss |"
            ]
          },
          "metadata": {}
        },
        {
          "output_type": "display_data",
          "data": {
            "text/html": [
              "<pre>+-----------+--------------+-------------------+---------------------+-------------------+---------------------+</pre>"
            ],
            "text/plain": [
              "+-----------+--------------+-------------------+---------------------+-------------------+---------------------+"
            ]
          },
          "metadata": {}
        },
        {
          "output_type": "display_data",
          "data": {
            "text/html": [
              "<pre>| 1         | 3.337758     | 0.276455          | 0.260652            | 2.167525          | 2.176896            |</pre>"
            ],
            "text/plain": [
              "| 1         | 3.337758     | 0.276455          | 0.260652            | 2.167525          | 2.176896            |"
            ]
          },
          "metadata": {}
        },
        {
          "output_type": "display_data",
          "data": {
            "text/html": [
              "<pre>| 2         | 6.771659     | 0.307258          | 0.286967            | 2.092871          | 2.112122            |</pre>"
            ],
            "text/plain": [
              "| 2         | 6.771659     | 0.307258          | 0.286967            | 2.092871          | 2.112122            |"
            ]
          },
          "metadata": {}
        },
        {
          "output_type": "display_data",
          "data": {
            "text/html": [
              "<pre>| 3         | 10.001614    | 0.327375          | 0.293233            | 2.035382          | 2.059996            |</pre>"
            ],
            "text/plain": [
              "| 3         | 10.001614    | 0.327375          | 0.293233            | 2.035382          | 2.059996            |"
            ]
          },
          "metadata": {}
        },
        {
          "output_type": "display_data",
          "data": {
            "text/html": [
              "<pre>| 4         | 13.205677    | 0.338654          | 0.304929            | 1.987989          | 2.016366            |</pre>"
            ],
            "text/plain": [
              "| 4         | 13.205677    | 0.338654          | 0.304929            | 1.987989          | 2.016366            |"
            ]
          },
          "metadata": {}
        },
        {
          "output_type": "display_data",
          "data": {
            "text/html": [
              "<pre>| 5         | 16.606029    | 0.351450          | 0.315789            | 1.948233          | 1.980255            |</pre>"
            ],
            "text/plain": [
              "| 5         | 16.606029    | 0.351450          | 0.315789            | 1.948233          | 1.980255            |"
            ]
          },
          "metadata": {}
        },
        {
          "output_type": "display_data",
          "data": {
            "text/html": [
              "<pre>| 7         | 23.466924    | 0.376250          | 0.333751            | 1.879655          | 1.921598            |</pre>"
            ],
            "text/plain": [
              "| 7         | 23.466924    | 0.376250          | 0.333751            | 1.879655          | 1.921598            |"
            ]
          },
          "metadata": {}
        },
        {
          "output_type": "display_data",
          "data": {
            "text/html": [
              "<pre>| 8         | 26.892441    | 0.383044          | 0.338346            | 1.851644          | 1.898590            |</pre>"
            ],
            "text/plain": [
              "| 8         | 26.892441    | 0.383044          | 0.338346            | 1.851644          | 1.898590            |"
            ]
          },
          "metadata": {}
        },
        {
          "output_type": "display_data",
          "data": {
            "text/html": [
              "<pre>| 9         | 30.386558    | 0.395950          | 0.348789            | 1.825583          | 1.875233            |</pre>"
            ],
            "text/plain": [
              "| 9         | 30.386558    | 0.395950          | 0.348789            | 1.825583          | 1.875233            |"
            ]
          },
          "metadata": {}
        },
        {
          "output_type": "display_data",
          "data": {
            "text/html": [
              "<pre>| 10        | 33.804849    | 0.403184          | 0.349624            | 1.802549          | 1.856488            |</pre>"
            ],
            "text/plain": [
              "| 10        | 33.804849    | 0.403184          | 0.349624            | 1.802549          | 1.856488            |"
            ]
          },
          "metadata": {}
        },
        {
          "output_type": "display_data",
          "data": {
            "text/html": [
              "<pre>+-----------+--------------+-------------------+---------------------+-------------------+---------------------+</pre>"
            ],
            "text/plain": [
              "+-----------+--------------+-------------------+---------------------+-------------------+---------------------+"
            ]
          },
          "metadata": {}
        },
        {
          "output_type": "display_data",
          "data": {
            "text/html": [
              "<pre>Random forest classifier:</pre>"
            ],
            "text/plain": [
              "Random forest classifier:"
            ]
          },
          "metadata": {}
        },
        {
          "output_type": "display_data",
          "data": {
            "text/html": [
              "<pre>--------------------------------------------------------</pre>"
            ],
            "text/plain": [
              "--------------------------------------------------------"
            ]
          },
          "metadata": {}
        },
        {
          "output_type": "display_data",
          "data": {
            "text/html": [
              "<pre>Number of examples          : 45483</pre>"
            ],
            "text/plain": [
              "Number of examples          : 45483"
            ]
          },
          "metadata": {}
        },
        {
          "output_type": "display_data",
          "data": {
            "text/html": [
              "<pre>Number of classes           : 10</pre>"
            ],
            "text/plain": [
              "Number of classes           : 10"
            ]
          },
          "metadata": {}
        },
        {
          "output_type": "display_data",
          "data": {
            "text/html": [
              "<pre>Number of feature columns   : 2</pre>"
            ],
            "text/plain": [
              "Number of feature columns   : 2"
            ]
          },
          "metadata": {}
        },
        {
          "output_type": "display_data",
          "data": {
            "text/html": [
              "<pre>Number of unpacked features : 186043</pre>"
            ],
            "text/plain": [
              "Number of unpacked features : 186043"
            ]
          },
          "metadata": {}
        },
        {
          "output_type": "display_data",
          "data": {
            "text/html": [
              "<pre>+-----------+--------------+-------------------+---------------------+-------------------+---------------------+</pre>"
            ],
            "text/plain": [
              "+-----------+--------------+-------------------+---------------------+-------------------+---------------------+"
            ]
          },
          "metadata": {}
        },
        {
          "output_type": "display_data",
          "data": {
            "text/html": [
              "<pre>| Iteration | Elapsed Time | Training Accuracy | Validation Accuracy | Training Log Loss | Validation Log Loss |</pre>"
            ],
            "text/plain": [
              "| Iteration | Elapsed Time | Training Accuracy | Validation Accuracy | Training Log Loss | Validation Log Loss |"
            ]
          },
          "metadata": {}
        },
        {
          "output_type": "display_data",
          "data": {
            "text/html": [
              "<pre>+-----------+--------------+-------------------+---------------------+-------------------+---------------------+</pre>"
            ],
            "text/plain": [
              "+-----------+--------------+-------------------+---------------------+-------------------+---------------------+"
            ]
          },
          "metadata": {}
        },
        {
          "output_type": "display_data",
          "data": {
            "text/html": [
              "<pre>| 1         | 2.683690     | 0.273267          | 0.263158            | 2.012484          | 2.039167            |</pre>"
            ],
            "text/plain": [
              "| 1         | 2.683690     | 0.273267          | 0.263158            | 2.012484          | 2.039167            |"
            ]
          },
          "metadata": {}
        },
        {
          "output_type": "display_data",
          "data": {
            "text/html": [
              "<pre>| 2         | 5.657775     | 0.297584          | 0.275272            | 1.998804          | 2.028857            |</pre>"
            ],
            "text/plain": [
              "| 2         | 5.657775     | 0.297584          | 0.275272            | 1.998804          | 2.028857            |"
            ]
          },
          "metadata": {}
        },
        {
          "output_type": "display_data",
          "data": {
            "text/html": [
              "<pre>| 3         | 8.304021     | 0.301893          | 0.275689            | 1.988049          | 2.023578            |</pre>"
            ],
            "text/plain": [
              "| 3         | 8.304021     | 0.301893          | 0.275689            | 1.988049          | 2.023578            |"
            ]
          },
          "metadata": {}
        },
        {
          "output_type": "display_data",
          "data": {
            "text/html": [
              "<pre>| 4         | 11.283751    | 0.305763          | 0.281537            | 1.984472          | 2.016461            |</pre>"
            ],
            "text/plain": [
              "| 4         | 11.283751    | 0.305763          | 0.281537            | 1.984472          | 2.016461            |"
            ]
          },
          "metadata": {}
        },
        {
          "output_type": "display_data",
          "data": {
            "text/html": [
              "<pre>| 5         | 14.061665    | 0.308533          | 0.284043            | 1.983310          | 2.015317            |</pre>"
            ],
            "text/plain": [
              "| 5         | 14.061665    | 0.308533          | 0.284043            | 1.983310          | 2.015317            |"
            ]
          },
          "metadata": {}
        },
        {
          "output_type": "display_data",
          "data": {
            "text/html": [
              "<pre>| 10        | 28.050978    | 0.310622          | 0.287803            | 1.979553          | 2.012003            |</pre>"
            ],
            "text/plain": [
              "| 10        | 28.050978    | 0.310622          | 0.287803            | 1.979553          | 2.012003            |"
            ]
          },
          "metadata": {}
        },
        {
          "output_type": "display_data",
          "data": {
            "text/html": [
              "<pre>+-----------+--------------+-------------------+---------------------+-------------------+---------------------+</pre>"
            ],
            "text/plain": [
              "+-----------+--------------+-------------------+---------------------+-------------------+---------------------+"
            ]
          },
          "metadata": {}
        },
        {
          "output_type": "display_data",
          "data": {
            "text/html": [
              "<pre>Decision tree classifier:</pre>"
            ],
            "text/plain": [
              "Decision tree classifier:"
            ]
          },
          "metadata": {}
        },
        {
          "output_type": "display_data",
          "data": {
            "text/html": [
              "<pre>--------------------------------------------------------</pre>"
            ],
            "text/plain": [
              "--------------------------------------------------------"
            ]
          },
          "metadata": {}
        },
        {
          "output_type": "display_data",
          "data": {
            "text/html": [
              "<pre>Number of examples          : 45483</pre>"
            ],
            "text/plain": [
              "Number of examples          : 45483"
            ]
          },
          "metadata": {}
        },
        {
          "output_type": "display_data",
          "data": {
            "text/html": [
              "<pre>Number of classes           : 10</pre>"
            ],
            "text/plain": [
              "Number of classes           : 10"
            ]
          },
          "metadata": {}
        },
        {
          "output_type": "display_data",
          "data": {
            "text/html": [
              "<pre>Number of feature columns   : 2</pre>"
            ],
            "text/plain": [
              "Number of feature columns   : 2"
            ]
          },
          "metadata": {}
        },
        {
          "output_type": "display_data",
          "data": {
            "text/html": [
              "<pre>Number of unpacked features : 186043</pre>"
            ],
            "text/plain": [
              "Number of unpacked features : 186043"
            ]
          },
          "metadata": {}
        },
        {
          "output_type": "display_data",
          "data": {
            "text/html": [
              "<pre>+-----------+--------------+-------------------+---------------------+-------------------+---------------------+</pre>"
            ],
            "text/plain": [
              "+-----------+--------------+-------------------+---------------------+-------------------+---------------------+"
            ]
          },
          "metadata": {}
        },
        {
          "output_type": "display_data",
          "data": {
            "text/html": [
              "<pre>| Iteration | Elapsed Time | Training Accuracy | Validation Accuracy | Training Log Loss | Validation Log Loss |</pre>"
            ],
            "text/plain": [
              "| Iteration | Elapsed Time | Training Accuracy | Validation Accuracy | Training Log Loss | Validation Log Loss |"
            ]
          },
          "metadata": {}
        },
        {
          "output_type": "display_data",
          "data": {
            "text/html": [
              "<pre>+-----------+--------------+-------------------+---------------------+-------------------+---------------------+</pre>"
            ],
            "text/plain": [
              "+-----------+--------------+-------------------+---------------------+-------------------+---------------------+"
            ]
          },
          "metadata": {}
        },
        {
          "output_type": "display_data",
          "data": {
            "text/html": [
              "<pre>| 1         | 3.465204     | 0.276455          | 0.260652            | 2.006431          | 2.036951            |</pre>"
            ],
            "text/plain": [
              "| 1         | 3.465204     | 0.276455          | 0.260652            | 2.006431          | 2.036951            |"
            ]
          },
          "metadata": {}
        },
        {
          "output_type": "display_data",
          "data": {
            "text/html": [
              "<pre>+-----------+--------------+-------------------+---------------------+-------------------+---------------------+</pre>"
            ],
            "text/plain": [
              "+-----------+--------------+-------------------+---------------------+-------------------+---------------------+"
            ]
          },
          "metadata": {}
        },
        {
          "output_type": "display_data",
          "data": {
            "text/html": [
              "<pre>Logistic regression:</pre>"
            ],
            "text/plain": [
              "Logistic regression:"
            ]
          },
          "metadata": {}
        },
        {
          "output_type": "display_data",
          "data": {
            "text/html": [
              "<pre>--------------------------------------------------------</pre>"
            ],
            "text/plain": [
              "--------------------------------------------------------"
            ]
          },
          "metadata": {}
        },
        {
          "output_type": "display_data",
          "data": {
            "text/html": [
              "<pre>Number of examples          : 45483</pre>"
            ],
            "text/plain": [
              "Number of examples          : 45483"
            ]
          },
          "metadata": {}
        },
        {
          "output_type": "display_data",
          "data": {
            "text/html": [
              "<pre>Number of classes           : 10</pre>"
            ],
            "text/plain": [
              "Number of classes           : 10"
            ]
          },
          "metadata": {}
        },
        {
          "output_type": "display_data",
          "data": {
            "text/html": [
              "<pre>Number of feature columns   : 2</pre>"
            ],
            "text/plain": [
              "Number of feature columns   : 2"
            ]
          },
          "metadata": {}
        },
        {
          "output_type": "display_data",
          "data": {
            "text/html": [
              "<pre>Number of unpacked features : 186043</pre>"
            ],
            "text/plain": [
              "Number of unpacked features : 186043"
            ]
          },
          "metadata": {}
        },
        {
          "output_type": "display_data",
          "data": {
            "text/html": [
              "<pre>Number of coefficients      : 1674396</pre>"
            ],
            "text/plain": [
              "Number of coefficients      : 1674396"
            ]
          },
          "metadata": {}
        },
        {
          "output_type": "display_data",
          "data": {
            "text/html": [
              "<pre>Starting L-BFGS</pre>"
            ],
            "text/plain": [
              "Starting L-BFGS"
            ]
          },
          "metadata": {}
        },
        {
          "output_type": "display_data",
          "data": {
            "text/html": [
              "<pre>--------------------------------------------------------</pre>"
            ],
            "text/plain": [
              "--------------------------------------------------------"
            ]
          },
          "metadata": {}
        },
        {
          "output_type": "display_data",
          "data": {
            "text/html": [
              "<pre>+-----------+----------+-----------+--------------+-------------------+---------------------+</pre>"
            ],
            "text/plain": [
              "+-----------+----------+-----------+--------------+-------------------+---------------------+"
            ]
          },
          "metadata": {}
        },
        {
          "output_type": "display_data",
          "data": {
            "text/html": [
              "<pre>| Iteration | Passes   | Step size | Elapsed Time | Training Accuracy | Validation Accuracy |</pre>"
            ],
            "text/plain": [
              "| Iteration | Passes   | Step size | Elapsed Time | Training Accuracy | Validation Accuracy |"
            ]
          },
          "metadata": {}
        },
        {
          "output_type": "display_data",
          "data": {
            "text/html": [
              "<pre>+-----------+----------+-----------+--------------+-------------------+---------------------+</pre>"
            ],
            "text/plain": [
              "+-----------+----------+-----------+--------------+-------------------+---------------------+"
            ]
          },
          "metadata": {}
        },
        {
          "output_type": "display_data",
          "data": {
            "text/html": [
              "<pre>| 0         | 2        | 1.000000  | 1.433923     | 0.941517          | 0.926483            |</pre>"
            ],
            "text/plain": [
              "| 0         | 2        | 1.000000  | 1.433923     | 0.941517          | 0.926483            |"
            ]
          },
          "metadata": {}
        },
        {
          "output_type": "display_data",
          "data": {
            "text/html": [
              "<pre>| 1         | 4        | 1.000000  | 119.204968   | 0.985709          | 0.973266            |</pre>"
            ],
            "text/plain": [
              "| 1         | 4        | 1.000000  | 119.204968   | 0.985709          | 0.973266            |"
            ]
          },
          "metadata": {}
        },
        {
          "output_type": "display_data",
          "data": {
            "text/html": [
              "<pre>| 2         | 5        | 1.000000  | 233.909179   | 0.996042          | 0.987886            |</pre>"
            ],
            "text/plain": [
              "| 2         | 5        | 1.000000  | 233.909179   | 0.996042          | 0.987886            |"
            ]
          },
          "metadata": {}
        },
        {
          "output_type": "display_data",
          "data": {
            "text/html": [
              "<pre>| 3         | 6        | 1.000000  | 350.925085   | 0.997450          | 0.992063            |</pre>"
            ],
            "text/plain": [
              "| 3         | 6        | 1.000000  | 350.925085   | 0.997450          | 0.992063            |"
            ]
          },
          "metadata": {}
        },
        {
          "output_type": "display_data",
          "data": {
            "text/html": [
              "<pre>| 4         | 7        | 1.000000  | 463.991689   | 0.998747          | 0.992481            |</pre>"
            ],
            "text/plain": [
              "| 4         | 7        | 1.000000  | 463.991689   | 0.998747          | 0.992481            |"
            ]
          },
          "metadata": {}
        },
        {
          "output_type": "display_data",
          "data": {
            "text/html": [
              "<pre>| 6         | 9        | 1.000000  | 688.693065   | 0.999516          | 0.991646            |</pre>"
            ],
            "text/plain": [
              "| 6         | 9        | 1.000000  | 688.693065   | 0.999516          | 0.991646            |"
            ]
          },
          "metadata": {}
        },
        {
          "output_type": "display_data",
          "data": {
            "text/html": [
              "<pre>| 7         | 12       | 1.000000  | 803.354253   | 0.999670          | 0.991228            |</pre>"
            ],
            "text/plain": [
              "| 7         | 12       | 1.000000  | 803.354253   | 0.999670          | 0.991228            |"
            ]
          },
          "metadata": {}
        },
        {
          "output_type": "display_data",
          "data": {
            "text/html": [
              "<pre>| 8         | 13       | 1.000000  | 915.959710   | 0.999758          | 0.989557            |</pre>"
            ],
            "text/plain": [
              "| 8         | 13       | 1.000000  | 915.959710   | 0.999758          | 0.989557            |"
            ]
          },
          "metadata": {}
        },
        {
          "output_type": "display_data",
          "data": {
            "text/html": [
              "<pre>| 9         | 14       | 1.000000  | 1027.526793  | 0.999802          | 0.986633            |</pre>"
            ],
            "text/plain": [
              "| 9         | 14       | 1.000000  | 1027.526793  | 0.999802          | 0.986633            |"
            ]
          },
          "metadata": {}
        },
        {
          "output_type": "display_data",
          "data": {
            "text/html": [
              "<pre>+-----------+----------+-----------+--------------+-------------------+---------------------+</pre>"
            ],
            "text/plain": [
              "+-----------+----------+-----------+--------------+-------------------+---------------------+"
            ]
          },
          "metadata": {}
        },
        {
          "output_type": "stream",
          "name": "stdout",
          "text": [
            "PROGRESS: Model selection based on validation accuracy:\n",
            "PROGRESS: ---------------------------------------------\n",
            "PROGRESS: BoostedTreesClassifier          : 0.34962406015037595\n",
            "PROGRESS: RandomForestClassifier          : 0.2878028404344194\n",
            "PROGRESS: DecisionTreeClassifier          : 0.2606516290726817\n",
            "PROGRESS: LogisticClassifier              : 0.9866332497911445\n",
            "PROGRESS: ---------------------------------------------\n",
            "PROGRESS: Selecting LogisticClassifier based on validation set performance.\n"
          ]
        }
      ]
    },
    {
      "cell_type": "code",
      "metadata": {
        "colab": {
          "base_uri": "https://localhost:8080/"
        },
        "id": "LxdXvf0afBXO",
        "outputId": "5125bcbc-2999-4e4f-9c8c-16e0d2d65524"
      },
      "source": [
        "cls2.evaluate(test_data)"
      ],
      "execution_count": 92,
      "outputs": [
        {
          "output_type": "execute_result",
          "data": {
            "text/plain": [
              "{'accuracy': 0.38132059079061686,\n",
              " 'auc': 0.8055141981020413,\n",
              " 'confusion_matrix': Columns:\n",
              " \ttarget_label\tint\n",
              " \tpredicted_label\tint\n",
              " \tcount\tint\n",
              " \n",
              " Rows: 100\n",
              " \n",
              " Data:\n",
              " +--------------+-----------------+-------+\n",
              " | target_label | predicted_label | count |\n",
              " +--------------+-----------------+-------+\n",
              " |      8       |        10       |   24  |\n",
              " |      8       |        4        |   83  |\n",
              " |      9       |        10       |   82  |\n",
              " |      3       |        9        |   15  |\n",
              " |      8       |        3        |   75  |\n",
              " |      2       |        4        |   34  |\n",
              " |      7       |        7        |  464  |\n",
              " |      1       |        4        |   28  |\n",
              " |      4       |        5        |   56  |\n",
              " |      1       |        6        |   21  |\n",
              " +--------------+-----------------+-------+\n",
              " [100 rows x 3 columns]\n",
              " Note: Only the head of the SFrame is printed.\n",
              " You can use print_rows(num_rows=m, num_columns=n) to print more rows and columns.,\n",
              " 'f1_score': 0.3823815995401192,\n",
              " 'log_loss': 2.0733238851031137,\n",
              " 'precision': 0.43373053383477755,\n",
              " 'recall': 0.3799555876888123,\n",
              " 'roc_curve': Columns:\n",
              " \tthreshold\tfloat\n",
              " \tfpr\tfloat\n",
              " \ttpr\tfloat\n",
              " \tp\tint\n",
              " \tn\tint\n",
              " \tclass\tint\n",
              " \n",
              " Rows: 10010\n",
              " \n",
              " Data:\n",
              " +-----------+--------------------+--------------------+------+-------+-------+\n",
              " | threshold |        fpr         |        tpr         |  p   |   n   | class |\n",
              " +-----------+--------------------+--------------------+------+-------+-------+\n",
              " |    0.0    |        1.0         |        1.0         | 1138 | 10372 |   0   |\n",
              " |   0.001   | 0.9798495950636329 | 0.9973637961335676 | 1138 | 10372 |   0   |\n",
              " |   0.002   | 0.9717508677207868 | 0.9938488576449912 | 1138 | 10372 |   0   |\n",
              " |   0.003   | 0.9652911685306594 | 0.9903339191564148 | 1138 | 10372 |   0   |\n",
              " |   0.004   | 0.9588314693405322 | 0.9894551845342706 | 1138 | 10372 |   0   |\n",
              " |   0.005   | 0.9527574238333976 | 0.9894551845342706 | 1138 | 10372 |   0   |\n",
              " |   0.006   | 0.9489008870034709 | 0.9894551845342706 | 1138 | 10372 |   0   |\n",
              " |   0.007   | 0.9439838025453143 | 0.9885764499121266 | 1138 | 10372 |   0   |\n",
              " |   0.008   | 0.9399344388738913 | 0.9876977152899824 | 1138 | 10372 |   0   |\n",
              " |   0.009   | 0.9354030080987273 | 0.9868189806678384 | 1138 | 10372 |   0   |\n",
              " +-----------+--------------------+--------------------+------+-------+-------+\n",
              " [10010 rows x 6 columns]\n",
              " Note: Only the head of the SFrame is printed.\n",
              " You can use print_rows(num_rows=m, num_columns=n) to print more rows and columns.}"
            ]
          },
          "metadata": {},
          "execution_count": 92
        }
      ]
    }
  ]
}